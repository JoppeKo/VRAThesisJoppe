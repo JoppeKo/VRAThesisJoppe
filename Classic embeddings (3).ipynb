{
 "cells": [
  {
   "cell_type": "code",
   "execution_count": null,
   "id": "98676469-9bbd-4fc4-bd52-10b9142f9f8d",
   "metadata": {},
   "outputs": [],
   "source": [
    "# DOC2VEC TRAINING"
   ]
  },
  {
   "cell_type": "code",
   "execution_count": null,
   "id": "89eb215d-efb8-46be-8743-b5245af2683f",
   "metadata": {},
   "outputs": [],
   "source": [
    "import pandas as pd"
   ]
  },
  {
   "cell_type": "code",
   "execution_count": null,
   "id": "3ef02d9d-1232-43dc-b0f9-c27a74485c4f",
   "metadata": {},
   "outputs": [],
   "source": [
    "notes = pd.read_csv('hpc_space/Masterthesisdata/merged.csv')"
   ]
  },
  {
   "cell_type": "code",
   "execution_count": null,
   "id": "4720a2c6-cf6b-40c1-8308-005fa38218ca",
   "metadata": {},
   "outputs": [],
   "source": [
    "import os"
   ]
  },
  {
   "cell_type": "code",
   "execution_count": null,
   "id": "f374c5cc-aaef-41c4-abcb-6d46028f3568",
   "metadata": {},
   "outputs": [],
   "source": [
    "import numpy as np\n",
    "\n",
    "import nltk.data\n",
    "from nltk.tokenize import word_tokenize\n",
    "\n",
    "import unidecode\n",
    "import re"
   ]
  },
  {
   "cell_type": "code",
   "execution_count": null,
   "id": "a2125e18-eb91-442d-83a7-a5175b29c3ea",
   "metadata": {},
   "outputs": [],
   "source": [
    "# nltk.download('punkt')"
   ]
  },
  {
   "cell_type": "code",
   "execution_count": null,
   "id": "81b39c77-f7a5-486d-bf50-247738fdda6b",
   "metadata": {},
   "outputs": [],
   "source": [
    "# Define tokenization procedure\n",
    "sent_tokenizer = nltk.data.load(\"nltk_data/tokenizers/punkt/dutch.pickle\")\n",
    "\n",
    "def tokenize(text):\n",
    "    for sentence in sent_tokenizer.tokenize(text):\n",
    "        yield word_tokenize(sentence)"
   ]
  },
  {
   "cell_type": "code",
   "execution_count": null,
   "id": "da221a68-8701-403e-85c9-88a6b3cfb7f3",
   "metadata": {},
   "outputs": [],
   "source": [
    "# nltk.download('stopwords')"
   ]
  },
  {
   "cell_type": "code",
   "execution_count": null,
   "id": "eae6e37e-8adf-496d-99d3-ced95bfbac75",
   "metadata": {},
   "outputs": [],
   "source": [
    "# Read stopwords\n",
    "with open('nltk_data/corpora/stopwords/dutch') as f:\n",
    "    dutch_stopwords = set(f.read().splitlines())"
   ]
  },
  {
   "cell_type": "code",
   "execution_count": null,
   "id": "6387823a-36b5-4f04-9dd6-80c4deb4e8f5",
   "metadata": {},
   "outputs": [],
   "source": [
    "# Initialize stemmer (using package nltk)\n",
    "stemmer = nltk.stem.snowball.DutchStemmer()"
   ]
  },
  {
   "cell_type": "code",
   "execution_count": null,
   "id": "425d06c2-eee3-4f60-8cb5-17f7ec30fca7",
   "metadata": {},
   "outputs": [],
   "source": [
    "# Preprocessing for text\n",
    "def text_to_words(text, filter_stopwords=True, stemming=False, filter_periods=False):\n",
    "\n",
    "    # Lowercase and remove special characters (ë => e, etc)\n",
    "    text = text.lower()\n",
    "    text = unidecode.unidecode(text)\n",
    "\n",
    "    # Remove all non space, period, lowercase\n",
    "    text = re.sub(r'([^\\sa-z\\.]|_)+', ' ', text)\n",
    "\n",
    "    # Remove obsolete periods\n",
    "    text = re.sub(r'\\s\\.\\s', ' ', text)\n",
    "    text = re.sub(r' +', ' ', text)\n",
    "    text = re.sub('\\t', ' ', text)\n",
    "    text = re.sub(r' +', ' ', text)\n",
    "\n",
    "    # Tokenize\n",
    "    words = [word for sentence in tokenize(text) for word in sentence]\n",
    "\n",
    "    # Filter stopwords\n",
    "    if filter_stopwords:\n",
    "        words = [word for word in words if word not in dutch_stopwords]\n",
    "\n",
    "    # Stemming\n",
    "    if stemming:\n",
    "        words = [stemmer.stem(w) for w in words]\n",
    "\n",
    "    # Filter periods\n",
    "    if filter_periods:\n",
    "        words = [word for word in words if word != \".\"]\n",
    "\n",
    "    # Return\n",
    "    return words"
   ]
  },
  {
   "cell_type": "code",
   "execution_count": null,
   "id": "e1b76b56-6e6f-488a-87ca-13de678ec6bc",
   "metadata": {},
   "outputs": [],
   "source": [
    "# Convert a dataframe with texts in the 'text_column' column to a numpy array with vector representations,\n",
    "# based on a paragraph2vec_model and a specified number of repetitions.\n",
    "def text_to_vectors(notes_df, text_column, paragraph2vec_model, no_reps=10):\n",
    "\n",
    "    # Output is a matrix with rows equal to number of notes, and columns equal to paragraph2vec model size\n",
    "    note_vectors = np.zeros((len(notes_df), paragraph2vec_model.vector_size))\n",
    "\n",
    "    # Iterate over all notes\n",
    "    for i in notes_df.index:\n",
    "\n",
    "        # Words are in the 'text_preprocessed' column split by whitespaces\n",
    "        note_words = notes_df.loc[i, text_column].split(\" \")\n",
    "\n",
    "        # Initialize an empty vector of length paragraph2vec model size\n",
    "        note_vec = np.zeros((paragraph2vec_model.vector_size))\n",
    "\n",
    "        # Iterate over number of repetitions to cancel out inaccuracies\n",
    "        for _ in range(no_reps):\n",
    "            note_vec += paragraph2vec_model.infer_vector(note_words)\n",
    "\n",
    "        # Add to note_vectors after normalizing for number of repetitions\n",
    "        note_vectors[i] = (note_vec / no_reps)\n",
    "\n",
    "    # Return output\n",
    "    return note_vectors"
   ]
  },
  {
   "cell_type": "code",
   "execution_count": null,
   "id": "bfff8273-8ec5-4116-a949-04152ae4c407",
   "metadata": {},
   "outputs": [],
   "source": [
    "# Processed notes and labels are written to two seperate files\n",
    "notes_file_path = os.path.join('hpc_space', 'Masterthesisdata', 'processed_notes', 'notesAll.txt')\n",
    "label_file_path = os.path.join('hpc_space', 'Masterthesisdata', 'processed_notes', 'labelsAll.txt')\n",
    "\n",
    "# Open file handles for preprocessed notes and lables\n",
    "with open(notes_file_path, 'a+') as notes_file, open(label_file_path, 'a+') as label_file:\n",
    "\n",
    "    # Iterate over records (== notes)\n",
    "    for i in notes.index:\n",
    "\n",
    "        # Extract text and label\n",
    "        text = notes.loc[i]['text']\n",
    "        label = notes.loc[i]['outcome']\n",
    "\n",
    "        # Convert text to words\n",
    "        words = text_to_words(text, \n",
    "                              filter_stopwords=True,\n",
    "                              stemming=True,\n",
    "                              filter_periods=True\n",
    "                             )\n",
    "\n",
    "        # Only texts with at least 2 words\n",
    "        if len(words) <= 1:\n",
    "            continue\n",
    "\n",
    "        # Append to file \n",
    "        notes_file.write(\"{}\\n\".format(' '.join(words)))\n",
    "        label_file.write(\"{}\\n\".format(label))"
   ]
  },
  {
   "cell_type": "code",
   "execution_count": null,
   "id": "6822da13-3098-47f2-b5ba-8cb0567c0a67",
   "metadata": {},
   "outputs": [],
   "source": [
    "import gensim"
   ]
  },
  {
   "cell_type": "code",
   "execution_count": null,
   "id": "19228c37-5652-4da5-abb4-7a66de80340b",
   "metadata": {},
   "outputs": [],
   "source": [
    "from gensim.models.doc2vec import TaggedDocument\n",
    "from itertools import islice\n",
    "\n",
    "class TaggedDocumentStream(object):\n",
    "\n",
    "    # Initialize with a list of note files, a list of label files, and a number of maxrows\n",
    "    def __init__(self, note_files, label_files, maxrows=None):\n",
    "        self.note_files = note_files\n",
    "        self.label_files = label_files\n",
    "        self.maxrows = maxrows\n",
    "\n",
    "    # Yield a TaggedDocument by iterating over the lines in a file\n",
    "    def yield_td(self, note_file, label_file):\n",
    "\n",
    "        # Keep track of row count\n",
    "        row_counter = 0\n",
    "\n",
    "        # Open note file and label file\n",
    "        with open(note_file) as note_file, open(label_file) as label_file:\n",
    "\n",
    "            # Iterate over lines\n",
    "            for note, label in zip(note_file, label_file):\n",
    "\n",
    "                # Check number of files that are read\n",
    "                if row_counter == self.maxrows:\n",
    "                    break\n",
    "                row_counter += 1\n",
    "\n",
    "                # Yield a TaggedDocument by splitting on whitespaces, and omitting the final newline character\n",
    "                yield TaggedDocument(note[:-1].split(\" \"), [label[:-1]])\n",
    "\n",
    "    # Implement iteration function by iterating over all note and label files\n",
    "    def __iter__(self):\n",
    "\n",
    "        for note_file, label_file in zip(self.note_files, self.label_files):\n",
    "            yield from self.yield_td(note_file, label_file)"
   ]
  },
  {
   "cell_type": "code",
   "execution_count": null,
   "id": "bebb74c1-f97c-4e8a-af82-30f1f398d3dd",
   "metadata": {},
   "outputs": [],
   "source": [
    "from gensim.models.doc2vec import Doc2Vec"
   ]
  },
  {
   "cell_type": "code",
   "execution_count": null,
   "id": "7b4006b7-cf4d-45e6-830c-9380595ece79",
   "metadata": {},
   "outputs": [],
   "source": [
    "note_file = \"hpc_space/Masterthesisdata/processed_notes/notesAll.txt\"\n",
    "label_file = \"hpc_space/Masterthesisdata/processed_notes/labelsAll.txt\"\n",
    "# Define TaggedDocumentStream\n",
    "notes_stream = TaggedDocumentStream(note_files=[note_file], label_files=[label_file])\n",
    "\n",
    "# Train paragraph2vec model\n",
    "paragraph2vec_model = Doc2Vec(notes_stream, \n",
    "                             epochs=20,\n",
    "                             min_count=20,\n",
    "                             dm=1,\n",
    "                             sample=1e-3,\n",
    "                             vector_size=300, \n",
    "                             window=2)\n",
    "\n",
    "# Save model to disk\n",
    "paragraph2vec_model.save(\"models/paragraph2vec_model_all\")"
   ]
  },
  {
   "cell_type": "code",
   "execution_count": null,
   "id": "3c891a67-39d4-4060-8632-c14d80c8760e",
   "metadata": {},
   "outputs": [],
   "source": []
  },
  {
   "cell_type": "code",
   "execution_count": null,
   "id": "ba059f6a-e4db-404c-83b4-3d4c863ed808",
   "metadata": {},
   "outputs": [],
   "source": [
    "# SVM TRAINING"
   ]
  },
  {
   "cell_type": "code",
   "execution_count": null,
   "id": "23cd7b6d-2ebf-4d2e-8850-5d8d92a82b6b",
   "metadata": {},
   "outputs": [],
   "source": [
    "import pandas as pd\n",
    "import os\n",
    "import numpy as np\n",
    "\n",
    "import nltk.data\n",
    "from nltk.tokenize import word_tokenize\n",
    "import sklearn\n",
    "import unidecode\n",
    "import re\n",
    "from gensim.models.doc2vec import TaggedDocument\n",
    "from itertools import islice\n",
    "from gensim.models.doc2vec import Doc2Vec\n",
    "from sklearn.feature_extraction.text import CountVectorizer\n",
    "from sklearn.feature_selection import SelectKBest, chi2\n",
    "import os\n",
    "from scipy import stats\n",
    "\n",
    "\n",
    "import gensim\n",
    "from gensim.models import Doc2Vec\n",
    "\n",
    "import joblib\n",
    "from sklearn.metrics import roc_auc_score, roc_curve\n",
    "\n",
    "import scipy.stats\n",
    "\n",
    "from sklearn import svm\n",
    "import joblib\n",
    "from sklearn.model_selection import GridSearchCV, GroupKFold\n",
    "\n",
    "from nltk.corpus.reader import conll"
   ]
  },
  {
   "cell_type": "code",
   "execution_count": null,
   "id": "4e601b57-37b4-4afe-b235-7d29871e6482",
   "metadata": {},
   "outputs": [],
   "source": [
    "# Define tokenization procedure\n",
    "sent_tokenizer = nltk.data.load(\"nltk_data/tokenizers/punkt/dutch.pickle\")\n",
    "\n",
    "def tokenize(text):\n",
    "    for sentence in sent_tokenizer.tokenize(text):\n",
    "        yield word_tokenize(sentence)\n",
    "\n",
    "# Read stopwords\n",
    "with open('nltk_data/corpora/stopwords/dutch') as f:\n",
    "    dutch_stopwords = set(f.read().splitlines())\n",
    "\n",
    "# Initialize stemmer (using package nltk)\n",
    "stemmer = nltk.stem.snowball.DutchStemmer()"
   ]
  },
  {
   "cell_type": "code",
   "execution_count": null,
   "id": "c9a90ae1-ee70-43b0-8238-a2757b1b64d9",
   "metadata": {},
   "outputs": [],
   "source": [
    "#################################FUNCTIONS ####################################################################\n",
    "# Preprocessing for text\n",
    "def text_to_words(text, filter_stopwords=True, stemming=False, filter_periods=False):\n",
    "\n",
    "    # Lowercase and remove special characters (ë => e, etc)\n",
    "    text = text.lower()\n",
    "    text = unidecode.unidecode(text)\n",
    "\n",
    "    # Remove all non space, period, lowercase\n",
    "    text = re.sub(r'([^\\sa-z\\.]|_)+', ' ', text)\n",
    "\n",
    "    # Remove obsolete periods\n",
    "    text = re.sub(r'\\s\\.\\s', ' ', text)\n",
    "    text = re.sub(r' +', ' ', text)\n",
    "    text = re.sub('\\t', ' ', text)\n",
    "    text = re.sub(r' +', ' ', text)\n",
    "\n",
    "    # Tokenize\n",
    "    words = [word for sentence in tokenize(text) for word in sentence]\n",
    "\n",
    "    # Filter stopwords\n",
    "    if filter_stopwords:\n",
    "        words = [word for word in words if word not in dutch_stopwords]\n",
    "\n",
    "    # Stemming\n",
    "    if stemming:\n",
    "        words = [stemmer.stem(w) for w in words]\n",
    "\n",
    "    # Filter periods\n",
    "    if filter_periods:\n",
    "        words = [word for word in words if word != \".\"]\n",
    "\n",
    "    # Return\n",
    "    return words\n",
    "\n",
    "######################################INFERENCE ##############################################\n",
    "# Convert a dataframe with texts in the 'text_column' column to a numpy array with vector representations,\n",
    "# based on a paragraph2vec_model and a specified number of repetitions.\n",
    "def text_to_vectors(notes_df, text_column, paragraph2vec_model, no_reps=10):\n",
    "\n",
    "    # Output is a matrix with rows equal to number of notes, and columns equal to paragraph2vec model size\n",
    "    note_vectors = np.zeros((len(notes_df), paragraph2vec_model.vector_size))\n",
    "\n",
    "    # Iterate over all notes\n",
    "    for i in notes_df.index:\n",
    "\n",
    "        # Words are in the 'text_preprocessed' column split by whitespaces\n",
    "        note_words = notes_df.loc[i, text_column].split(\" \")\n",
    "\n",
    "        # Initialize an empty vector of length paragraph2vec model size\n",
    "        note_vec = np.zeros((paragraph2vec_model.vector_size))\n",
    "\n",
    "        # Iterate over number of repetitions to cancel out inaccuracies\n",
    "        for _ in range(no_reps):\n",
    "            note_vec += paragraph2vec_model.infer_vector(note_words)\n",
    "\n",
    "        # Add to note_vectors after normalizing for number of repetitions\n",
    "        note_vectors[i] = (note_vec / no_reps)\n",
    "\n",
    "    # Return output\n",
    "    return note_vectors"
   ]
  },
  {
   "cell_type": "code",
   "execution_count": null,
   "id": "8ae09fa3-6ef7-48df-bc1e-561a426ee8c3",
   "metadata": {},
   "outputs": [],
   "source": [
    "paragraph2vec_model = Doc2Vec.load(\"models/paragraph2vec_model_all\")"
   ]
  },
  {
   "cell_type": "code",
   "execution_count": null,
   "id": "2c593952-733b-4525-a4cf-ae434fa94bca",
   "metadata": {},
   "outputs": [],
   "source": [
    "engineered_notes_train = pd.read_csv('hpc_space/MBERT1/train_data_augmented_1.csv')\n",
    "\n",
    "# Convert text to words\n",
    "engineered_notes_train['words_stemmed'] = engineered_notes_train['text'].apply(lambda x : text_to_words(x,\n",
    "                                                                                    filter_stopwords=True,\n",
    "                                                                                    stemming=True,\n",
    "                                                                                    filter_periods=True\n",
    "                                                                                    ))\n",
    "\n",
    "# Join with whitespace\n",
    "engineered_notes_train['words_stemmed'] = engineered_notes_train['words_stemmed'].apply(lambda x : ' '.join(x))\n",
    "\n",
    "# Convert text to notes\n",
    "note_vectors = text_to_vectors(engineered_notes_train, 'words_stemmed', paragraph2vec_model, 10)\n",
    "\n",
    "# Concatenate to original dataframe\n",
    "engineered_notes_train = pd.concat([engineered_notes_train, pd.DataFrame(note_vectors)], axis=1)"
   ]
  },
  {
   "cell_type": "code",
   "execution_count": null,
   "id": "a098ee6f-0c93-4043-84b7-9415f956feba",
   "metadata": {},
   "outputs": [],
   "source": [
    "engineered_notes_test = pd.read_csv(\"hpc_space/MBERT1/test_data_mid_1.csv\")\n",
    "\n",
    "# Convert text to words\n",
    "engineered_notes_test['words_stemmed'] = engineered_notes_test['text'].apply(lambda x : text_to_words(x,\n",
    "                                                                                    filter_stopwords=True,\n",
    "                                                                                    stemming=True,\n",
    "                                                                                    filter_periods=True\n",
    "                                                                                    ))\n",
    "\n",
    "# Join with whitespace\n",
    "engineered_notes_test['words_stemmed'] = engineered_notes_test['words_stemmed'].apply(lambda x : ' '.join(x))\n",
    "\n",
    "# Convert text to notes\n",
    "note_vectors_test = text_to_vectors(engineered_notes_test, 'words_stemmed', paragraph2vec_model, 10)\n",
    "\n",
    "# Concatenate to original dataframe\n",
    "engineered_notes_test = pd.concat([engineered_notes_test, pd.DataFrame(note_vectors_test)], axis=1)"
   ]
  },
  {
   "cell_type": "code",
   "execution_count": null,
   "id": "b7a8cf7b-56ea-4964-b2dc-3377154e756a",
   "metadata": {},
   "outputs": [],
   "source": [
    "engineered_notes_train.to_csv(\"engineered_notes_train_all_trained_5.csv\")\n",
    "engineered_notes_test.to_csv(\"engineered_notes_test_all_trained_5.csv\")"
   ]
  },
  {
   "cell_type": "code",
   "execution_count": null,
   "id": "67f613ff-dfe5-4f9a-929a-6accd163d2f3",
   "metadata": {},
   "outputs": [],
   "source": [
    "engineered_notes_train = pd.read_csv(\"engineered_notes_train_all_trained_5.csv\")\n",
    "engineered_notes_test = pd.read_csv(\"engineered_notes_test_all_trained_5.csv\")"
   ]
  },
  {
   "cell_type": "code",
   "execution_count": null,
   "id": "ffa2ab37-c2a2-41c2-ae62-8d8604938907",
   "metadata": {},
   "outputs": [],
   "source": [
    "# Subset data from engineered_notes_train for training\n",
    "X_train = engineered_notes_train[[str(a) for a in range(300)]].values\n",
    "y_train = engineered_notes_train[['outcome', 'Geslacht']]\n",
    "\n",
    "# Subset data from engineered_notes_test for testing\n",
    "X_test = engineered_notes_test[[str(a) for a in range(300)]].values\n",
    "y_test = engineered_notes_test[['outcome', 'Geslacht']]"
   ]
  },
  {
   "cell_type": "code",
   "execution_count": null,
   "id": "3192adc1-634e-49bb-aa9c-c1ad2c4619cb",
   "metadata": {},
   "outputs": [],
   "source": [
    "from sklearn.pipeline import make_pipeline, Pipeline\n",
    "from sklearn.model_selection import GridSearchCV\n",
    "from sklearn.preprocessing import StandardScaler\n",
    "from sklearn.svm import SVC\n",
    "\n",
    "svm_params = [{\n",
    "    'clf__C': [0.1, 1, 10],\n",
    "    'clf__kernel': ['rbf'],\n",
    "\n",
    "}]\n",
    "\n",
    "pipeline = Pipeline(steps=[(\"preprocesser\", StandardScaler()), (\"clf\", SVC(random_state=0, probability=True))])\n",
    "grid = GridSearchCV(pipeline, svm_params, scoring='f1_macro', verbose=1, cv=3)\n",
    "\n",
    "grid.fit(X_train, y_train['outcome'])\n",
    "\n",
    "svm_model = grid.best_estimator_"
   ]
  },
  {
   "cell_type": "code",
   "execution_count": null,
   "id": "6833ce3a-7620-4839-b498-8b7ec54f9589",
   "metadata": {},
   "outputs": [],
   "source": [
    "# Store predictions and true labels in a DataFrame for testing data\n",
    "predictions = pd.DataFrame({\n",
    "    'probability': svm_model.predict_proba(X_test)[:, 1],\n",
    "    'pred_label': svm_model.predict(X_test),\n",
    "    'true_label': y_test['outcome'],\n",
    "    'Geslacht': y_test['Geslacht'],\n",
    "    'fold_number': 1\n",
    "})\n",
    "\n",
    "predictions.to_csv(f\"predictions_alltrained_5.csv\", sep=\";\", index=False)\n",
    "\n",
    "model_filename = f\"alltrained_model5.joblib\"\n",
    "joblib.dump(svm_model, model_filename)"
   ]
  },
  {
   "cell_type": "code",
   "execution_count": null,
   "id": "13d50ee1-9b99-4581-87e5-b14e8d60caaa",
   "metadata": {},
   "outputs": [],
   "source": [
    "final_df = pd.read_csv(\"predictions_alltrained_5.csv\", sep=\";\")"
   ]
  },
  {
   "cell_type": "code",
   "execution_count": null,
   "id": "39d4a869-a363-4b9b-bde3-f111a7985798",
   "metadata": {},
   "outputs": [],
   "source": [
    "# EVALUATION"
   ]
  },
  {
   "cell_type": "code",
   "execution_count": null,
   "id": "648c7ab0-d2a8-4292-9661-d1845bc06302",
   "metadata": {},
   "outputs": [],
   "source": [
    "final_df = final_df.rename(columns={\"pred_label\": \"final_prediction\"})\n",
    "final_df = final_df.rename(columns={\"true_label\": \"label\"})"
   ]
  },
  {
   "cell_type": "code",
   "execution_count": null,
   "id": "5807387a-ccf7-40b0-983e-297285bfc0d9",
   "metadata": {},
   "outputs": [],
   "source": [
    "from sklearn.metrics import accuracy_score, precision_score, recall_score, f1_score, confusion_matrix, roc_auc_score\n",
    "\n",
    "# Calculate accuracy for the positive class (label = 1)\n",
    "accuracy_positive = accuracy_score(final_df['label'], final_df['final_prediction'])\n",
    "\n",
    "# Calculate precision for the positive class (label = 1)\n",
    "precision_positive = precision_score(final_df['label'], final_df['final_prediction'], pos_label=1)\n",
    "\n",
    "# Calculate recall for the positive class (label = 1)\n",
    "recall_positive = recall_score(final_df['label'], final_df['final_prediction'], pos_label=1)\n",
    "\n",
    "# Calculate F1 score for the positive class (label = 1)\n",
    "f1_positive = f1_score(final_df['label'], final_df['final_prediction'], pos_label=1)\n",
    "\n",
    "# Calculate precision for the negative class (label = 0)\n",
    "precision_negative = precision_score(final_df['label'], final_df['final_prediction'], pos_label=0)\n",
    "\n",
    "# Calculate recall for the negative class (label = 0)\n",
    "recall_negative = recall_score(final_df['label'], final_df['final_prediction'], pos_label=0)\n",
    "\n",
    "# Calculate F1 score for the negative class (label = 0)\n",
    "f1_negative = f1_score(final_df['label'], final_df['final_prediction'], pos_label=0)\n",
    "\n",
    "# Calculate the AUC\n",
    "auc = roc_auc_score(final_df['label'], final_df['final_prediction'])\n",
    "\n",
    "# Calculate the AUC for males (Geslacht = 1)\n",
    "auc_male = roc_auc_score(final_df[final_df['Geslacht'] == 1]['label'], final_df[final_df['Geslacht'] == 1]['final_prediction'])\n",
    "\n",
    "# Calculate the AUC for females (Geslacht = 0)\n",
    "auc_female = roc_auc_score(final_df[final_df['Geslacht'] == 0]['label'], final_df[final_df['Geslacht'] == 0]['final_prediction'])\n",
    "\n",
    "\n",
    "# Print the calculated metrics separately for both classes\n",
    "print(f\"Accuracy (Overall): {accuracy_positive:.4f}\")\n",
    "print(f\"Precision (Positive): {precision_positive:.4f}\")\n",
    "print(f\"Recall (Positive): {recall_positive:.4f}\")\n",
    "print(f\"F1 Score (Positive): {f1_positive:.4f}\")\n",
    "print(f\"Precision (Negative): {precision_negative:.4f}\")\n",
    "print(f\"Recall (Negative): {recall_negative:.4f}\")\n",
    "print(f\"F1 Score (Negative): {f1_negative:.4f}\")\n",
    "print(f\"AUC: {auc:.4f}\")\n",
    "print(f\"AUC (Male): {auc_male:.4f}\")\n",
    "print(f\"AUC (Female): {auc_female:.4f}\")"
   ]
  },
  {
   "cell_type": "code",
   "execution_count": null,
   "id": "c3fe2d8a-af09-4360-809d-bbfabcc28757",
   "metadata": {},
   "outputs": [],
   "source": [
    "from sklearn.metrics import confusion_matrix\n",
    "\n",
    "# Calculate the confusion matrix for the entire dataset\n",
    "cm = confusion_matrix(final_df['label'], final_df['final_prediction'])\n",
    "\n",
    "# Calculate TPR and FPR for male (Geslacht = 1)\n",
    "male_indices = final_df['Geslacht'] == 1\n",
    "cm_male = confusion_matrix(final_df[male_indices]['label'], final_df[male_indices]['final_prediction'])\n",
    "\n",
    "tpr_male = cm_male[1, 1] / (cm_male[1, 0] + cm_male[1, 1])\n",
    "fpr_male = cm_male[0, 1] / (cm_male[0, 0] + cm_male[0, 1])\n",
    "\n",
    "# Calculate TPR and FPR for female (Geslacht = 0)\n",
    "female_indices = final_df['Geslacht'] == 0\n",
    "cm_female = confusion_matrix(final_df[female_indices]['label'], final_df[female_indices]['final_prediction'])\n",
    "\n",
    "tpr_female = cm_female[1, 1] / (cm_female[1, 0] + cm_female[1, 1])\n",
    "fpr_female = cm_female[0, 1] / (cm_female[0, 0] + cm_female[0, 1])\n",
    "\n",
    "# Print the calculated metrics separately for both classes\n",
    "print(f\"TPR (Male): {tpr_male:.4f}\")\n",
    "print(f\"TPR (Female): {tpr_female:.4f}\")\n",
    "print(f\"FPR (Male): {fpr_male:.4f}\")\n",
    "print(f\"FPR (Female): {fpr_female:.4f}\")"
   ]
  },
  {
   "cell_type": "code",
   "execution_count": null,
   "id": "4a5319f3-c09e-41f2-bd36-d73d04909514",
   "metadata": {},
   "outputs": [],
   "source": [
    "final_df['combined'] = final_df['Geslacht'].astype(str) + '_' + final_df['label'].astype(str) + '_' + final_df['final_prediction'].astype(str)\n",
    "\n",
    "# Get the count of combinations\n",
    "combination_counts = final_df['combined'].value_counts()\n",
    "\n",
    "# Print the counts\n",
    "print(\"Combined Counts:\")\n",
    "print(combination_counts)"
   ]
  },
  {
   "cell_type": "code",
   "execution_count": null,
   "id": "ea940e1a-4d7a-4ef1-845b-b6eee9bc485b",
   "metadata": {},
   "outputs": [],
   "source": []
  }
 ],
 "metadata": {
  "kernelspec": {
   "display_name": "vrabiasKernelJoppe",
   "language": "python",
   "name": "vrabiaskerneljoppe"
  },
  "language_info": {
   "codemirror_mode": {
    "name": "ipython",
    "version": 3
   },
   "file_extension": ".py",
   "mimetype": "text/x-python",
   "name": "python",
   "nbconvert_exporter": "python",
   "pygments_lexer": "ipython3",
   "version": "3.9.18"
  }
 },
 "nbformat": 4,
 "nbformat_minor": 5
}
