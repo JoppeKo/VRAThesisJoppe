{
 "cells": [
  {
   "cell_type": "code",
   "execution_count": 1,
   "id": "2571df64-7672-413a-ae72-8522d752bc0b",
   "metadata": {},
   "outputs": [
    {
     "name": "stderr",
     "output_type": "stream",
     "text": [
      "2023-11-12 01:10:05.747902: I tensorflow/core/util/port.cc:111] oneDNN custom operations are on. You may see slightly different numerical results due to floating-point round-off errors from different computation orders. To turn them off, set the environment variable `TF_ENABLE_ONEDNN_OPTS=0`.\n",
      "2023-11-12 01:10:05.791276: E tensorflow/compiler/xla/stream_executor/cuda/cuda_dnn.cc:9342] Unable to register cuDNN factory: Attempting to register factory for plugin cuDNN when one has already been registered\n",
      "2023-11-12 01:10:05.791307: E tensorflow/compiler/xla/stream_executor/cuda/cuda_fft.cc:609] Unable to register cuFFT factory: Attempting to register factory for plugin cuFFT when one has already been registered\n",
      "2023-11-12 01:10:05.791334: E tensorflow/compiler/xla/stream_executor/cuda/cuda_blas.cc:1518] Unable to register cuBLAS factory: Attempting to register factory for plugin cuBLAS when one has already been registered\n",
      "2023-11-12 01:10:05.799092: I tensorflow/core/platform/cpu_feature_guard.cc:182] This TensorFlow binary is optimized to use available CPU instructions in performance-critical operations.\n",
      "To enable the following instructions: AVX2 AVX512F AVX512_VNNI FMA, in other operations, rebuild TensorFlow with the appropriate compiler flags.\n"
     ]
    }
   ],
   "source": [
    "import tensorflow as tf"
   ]
  },
  {
   "cell_type": "code",
   "execution_count": 2,
   "id": "baf4e409-2fe7-4d0c-8795-b51bc8642718",
   "metadata": {},
   "outputs": [],
   "source": [
    "import pandas as pd"
   ]
  },
  {
   "cell_type": "code",
   "execution_count": 3,
   "id": "bb0dfbc2-30ee-4a7d-a313-6539f6cd089e",
   "metadata": {},
   "outputs": [],
   "source": [
    "train_data = pd.read_csv('hpc_space/MBERT5/train_data_mid_5.csv')\n",
    "val_data = pd.read_csv('hpc_space/MBERT5/val_data_mid_5.csv')"
   ]
  },
  {
   "cell_type": "code",
   "execution_count": 4,
   "id": "31f9203c-ed93-43be-978f-a8f145b96cc1",
   "metadata": {},
   "outputs": [],
   "source": [
    "# train_data = train_data.sample(frac=1, random_state=15)"
   ]
  },
  {
   "cell_type": "code",
   "execution_count": 5,
   "id": "ba68e7fc-63d4-4380-bf85-66a50f92e833",
   "metadata": {},
   "outputs": [
    {
     "data": {
      "text/html": [
       "<div>\n",
       "<style scoped>\n",
       "    .dataframe tbody tr th:only-of-type {\n",
       "        vertical-align: middle;\n",
       "    }\n",
       "\n",
       "    .dataframe tbody tr th {\n",
       "        vertical-align: top;\n",
       "    }\n",
       "\n",
       "    .dataframe thead th {\n",
       "        text-align: right;\n",
       "    }\n",
       "</style>\n",
       "<table border=\"1\" class=\"dataframe\">\n",
       "  <thead>\n",
       "    <tr style=\"text-align: right;\">\n",
       "      <th></th>\n",
       "      <th>text</th>\n",
       "      <th>outcome</th>\n",
       "      <th>Geslacht</th>\n",
       "      <th>Combined</th>\n",
       "    </tr>\n",
       "  </thead>\n",
       "  <tbody>\n",
       "    <tr>\n",
       "      <th>0</th>\n",
       "      <td>Orienterend lab + UDS aangevraagd\\n\\n\\n\\nNoodb...</td>\n",
       "      <td>0</td>\n",
       "      <td>1</td>\n",
       "      <td>0_1</td>\n",
       "    </tr>\n",
       "    <tr>\n",
       "      <th>1</th>\n",
       "      <td>PO/ We zien een matig verzorgde, obese vrouw m...</td>\n",
       "      <td>0</td>\n",
       "      <td>0</td>\n",
       "      <td>0_0</td>\n",
       "    </tr>\n",
       "    <tr>\n",
       "      <th>2</th>\n",
       "      <td>\\n\\n\\n\\nTelefonisch uitleg gegeven over de ECT...</td>\n",
       "      <td>0</td>\n",
       "      <td>1</td>\n",
       "      <td>0_1</td>\n",
       "    </tr>\n",
       "    <tr>\n",
       "      <th>3</th>\n",
       "      <td>\\n\\n\\n\\nVinkers, dienstdoende psychiatrie.\\n\\n...</td>\n",
       "      <td>0</td>\n",
       "      <td>0</td>\n",
       "      <td>0_0</td>\n",
       "    </tr>\n",
       "    <tr>\n",
       "      <th>4</th>\n",
       "      <td>1. Psychische problemen \\nRvO: Angst met psych...</td>\n",
       "      <td>0</td>\n",
       "      <td>1</td>\n",
       "      <td>0_1</td>\n",
       "    </tr>\n",
       "  </tbody>\n",
       "</table>\n",
       "</div>"
      ],
      "text/plain": [
       "                                                text  outcome  Geslacht  \\\n",
       "0  Orienterend lab + UDS aangevraagd\\n\\n\\n\\nNoodb...        0         1   \n",
       "1  PO/ We zien een matig verzorgde, obese vrouw m...        0         0   \n",
       "2  \\n\\n\\n\\nTelefonisch uitleg gegeven over de ECT...        0         1   \n",
       "3  \\n\\n\\n\\nVinkers, dienstdoende psychiatrie.\\n\\n...        0         0   \n",
       "4  1. Psychische problemen \\nRvO: Angst met psych...        0         1   \n",
       "\n",
       "  Combined  \n",
       "0      0_1  \n",
       "1      0_0  \n",
       "2      0_1  \n",
       "3      0_0  \n",
       "4      0_1  "
      ]
     },
     "execution_count": 5,
     "metadata": {},
     "output_type": "execute_result"
    }
   ],
   "source": [
    "train_data.head()"
   ]
  },
  {
   "cell_type": "code",
   "execution_count": 6,
   "id": "d46b39d0-2259-410d-9b31-5e46966239e6",
   "metadata": {},
   "outputs": [
    {
     "data": {
      "text/html": [
       "<div>\n",
       "<style scoped>\n",
       "    .dataframe tbody tr th:only-of-type {\n",
       "        vertical-align: middle;\n",
       "    }\n",
       "\n",
       "    .dataframe tbody tr th {\n",
       "        vertical-align: top;\n",
       "    }\n",
       "\n",
       "    .dataframe thead th {\n",
       "        text-align: right;\n",
       "    }\n",
       "</style>\n",
       "<table border=\"1\" class=\"dataframe\">\n",
       "  <thead>\n",
       "    <tr style=\"text-align: right;\">\n",
       "      <th></th>\n",
       "      <th>text</th>\n",
       "      <th>outcome</th>\n",
       "      <th>Geslacht</th>\n",
       "      <th>Combined</th>\n",
       "    </tr>\n",
       "  </thead>\n",
       "  <tbody>\n",
       "    <tr>\n",
       "      <th>0</th>\n",
       "      <td>\\n\\n\\n\\n&lt;PERSOON-1&gt; (co-ass)\\n\\nOpnamegesprek ...</td>\n",
       "      <td>0</td>\n",
       "      <td>1</td>\n",
       "      <td>0_1</td>\n",
       "    </tr>\n",
       "    <tr>\n",
       "      <th>1</th>\n",
       "      <td>\\n\\n\\n\\nM. &lt;PERSOON-1&gt;/&lt;PERSOON-2&gt;\\n\\nRvC/pre-...</td>\n",
       "      <td>1</td>\n",
       "      <td>1</td>\n",
       "      <td>1_1</td>\n",
       "    </tr>\n",
       "    <tr>\n",
       "      <th>2</th>\n",
       "      <td>\\n\\n\\n\\nVerzendlijst\\n\\nReden van verwijzing: ...</td>\n",
       "      <td>0</td>\n",
       "      <td>0</td>\n",
       "      <td>0_0</td>\n",
       "    </tr>\n",
       "    <tr>\n",
       "      <th>3</th>\n",
       "      <td>\\n\\n\\n\\nGesprek met &lt;PERSOON-1&gt; (ANIOS) en &lt;PE...</td>\n",
       "      <td>1</td>\n",
       "      <td>0</td>\n",
       "      <td>1_0</td>\n",
       "    </tr>\n",
       "    <tr>\n",
       "      <th>4</th>\n",
       "      <td>TC met &lt;INSTELLING-1&gt; spiegel 66 + desm 360\\n\\...</td>\n",
       "      <td>0</td>\n",
       "      <td>0</td>\n",
       "      <td>0_0</td>\n",
       "    </tr>\n",
       "  </tbody>\n",
       "</table>\n",
       "</div>"
      ],
      "text/plain": [
       "                                                text  outcome  Geslacht  \\\n",
       "0  \\n\\n\\n\\n<PERSOON-1> (co-ass)\\n\\nOpnamegesprek ...        0         1   \n",
       "1  \\n\\n\\n\\nM. <PERSOON-1>/<PERSOON-2>\\n\\nRvC/pre-...        1         1   \n",
       "2  \\n\\n\\n\\nVerzendlijst\\n\\nReden van verwijzing: ...        0         0   \n",
       "3  \\n\\n\\n\\nGesprek met <PERSOON-1> (ANIOS) en <PE...        1         0   \n",
       "4  TC met <INSTELLING-1> spiegel 66 + desm 360\\n\\...        0         0   \n",
       "\n",
       "  Combined  \n",
       "0      0_1  \n",
       "1      1_1  \n",
       "2      0_0  \n",
       "3      1_0  \n",
       "4      0_0  "
      ]
     },
     "execution_count": 6,
     "metadata": {},
     "output_type": "execute_result"
    }
   ],
   "source": [
    "val_data.head()"
   ]
  },
  {
   "cell_type": "code",
   "execution_count": 7,
   "id": "275cedd4-aebc-45b6-a110-f7d15a088da4",
   "metadata": {},
   "outputs": [],
   "source": [
    "import re"
   ]
  },
  {
   "cell_type": "code",
   "execution_count": 8,
   "id": "0e3fa4d4-b464-4f9e-ae38-f28b1861d49e",
   "metadata": {},
   "outputs": [],
   "source": [
    "def clean_txt(text):\n",
    "    text = re.sub(\"'\", \"\", text)\n",
    "    text = re.sub(\"(\\\\W)+\", \" \", text)\n",
    "    return text"
   ]
  },
  {
   "cell_type": "code",
   "execution_count": 9,
   "id": "82e546f7-d15a-4f46-aa36-55ae49af0927",
   "metadata": {},
   "outputs": [],
   "source": [
    "train_data['text'] = train_data.text.apply(clean_txt)\n",
    "val_data['text'] = val_data.text.apply(clean_txt)"
   ]
  },
  {
   "cell_type": "code",
   "execution_count": 10,
   "id": "9b6166be-7f9e-44a8-a726-bc7c072ae5fa",
   "metadata": {},
   "outputs": [],
   "source": [
    "def replace_gendered_words(text):\n",
    "    gendered_word_mapping = {\n",
    "        \"Hij\": \"Diegene\",\n",
    "        \"hij\": \"diegene\",\n",
    "        \"Hem\": \"Diegene\",\n",
    "        \"hem\": \"diegene\",\n",
    "        \"Zijn\": \"Diens\",\n",
    "        \"zijn\": \"diens\",\n",
    "        \"Dhr\": \"Persoon\",\n",
    "        \"dhr\": \"persoon\",\n",
    "        \"Man\": \"Persoon\",\n",
    "        \"man\": \"persoon\",\n",
    "        \"Meneer\": \"Persoon\",\n",
    "        \"meneer\": \"persoon\",\n",
    "        \"Mr\": \"Persoon\",\n",
    "        \"mr\": \"persoon\",\n",
    "        \"Jongen\": \"Persoon\",\n",
    "        \"jongen\": \"persoon\",\n",
    "        \"Heer\": \"Persoon\",\n",
    "        \"heer\": \"persoon\",\n",
    "        \"Zij\": \"Diegene\",\n",
    "        \"zij\": \"diegene\",\n",
    "        \"Ze\": \"Diegene\",\n",
    "        \"ze\": \"diegene\",\n",
    "        \"Haar\": \"Diens\",\n",
    "        \"haar\": \"diens\",\n",
    "        \"Mw\": \"Persoon\",\n",
    "        \"mw\": \"persoon\",\n",
    "        \"Vrouw\": \"Persoon\",\n",
    "        \"vrouw\": \"persoon\",\n",
    "        \"Patiente\": \"Patient\",\n",
    "        \"patiente\": \"patient\",\n",
    "        \"Mevrouw\": \"Persoon\",\n",
    "        \"mevrouw\": \"persoon\",\n",
    "        \"Mevr\": \"Persoon\",\n",
    "        \"mevr\": \"persoon\",\n",
    "        \"Meisje\": \"Persoon\",\n",
    "        \"meisje\": \"persoon\",\n",
    "        \"Dame\": \"Persoon\",\n",
    "        \"dame\": \"persoon\",\n",
    "        \"Hr\": \"Persoon\",\n",
    "        \"hr\": \"persoon\"\n",
    "    }\n",
    "\n",
    "    words = text.split()\n",
    "\n",
    "    for i in range(len(words)):\n",
    "        word = words[i]\n",
    "        if word in gendered_word_mapping:\n",
    "            words[i] = gendered_word_mapping[word]\n",
    "\n",
    "    return ' '.join(words)"
   ]
  },
  {
   "cell_type": "code",
   "execution_count": 11,
   "id": "5daccb1b-423b-429c-b1bf-a2eea73ffd07",
   "metadata": {},
   "outputs": [
    {
     "name": "stdout",
     "output_type": "stream",
     "text": [
      "Modified DataFrame:\n",
      "                                                   text  outcome  Geslacht  \\\n",
      "0     Orienterend lab UDS aangevraagd Noodbed via IN...        0         1   \n",
      "1     PO We zien een matig verzorgde obese persoon m...        0         0   \n",
      "2     Telefonisch uitleg gegeven over de ECT studie ...        0         1   \n",
      "3     Vinkers dienstdoende psychiatrie Verwijzer PER...        0         0   \n",
      "4     1 Psychische problemen RvO Angst met psychotis...        0         1   \n",
      "...                                                 ...      ...       ...   \n",
      "2795  1 Psychische problemen Weinig in beeld af en t...        0         1   \n",
      "2796  MDO beleid opname vandaag gaat graag gesprek a...        0         1   \n",
      "2797  Persoon kwam rond 14 30 op de afdeling samen m...        0         1   \n",
      "2798  PERSOON 1 Persoon kwam samen met diens persoon...        1         0   \n",
      "2799  Opnamegesprek in dienst Aanwezig pte vpk PERSO...        1         0   \n",
      "\n",
      "     Combined  \n",
      "0         0_1  \n",
      "1         0_0  \n",
      "2         0_1  \n",
      "3         0_0  \n",
      "4         0_1  \n",
      "...       ...  \n",
      "2795      0_1  \n",
      "2796      0_1  \n",
      "2797      0_1  \n",
      "2798      1_0  \n",
      "2799      1_0  \n",
      "\n",
      "[2800 rows x 4 columns]\n"
     ]
    }
   ],
   "source": [
    "if __name__ == \"__main__\":\n",
    "    train_data['text'] = train_data['text'].apply(replace_gendered_words)\n",
    "\n",
    "    # Print the modified DataFrame\n",
    "    print(\"Modified DataFrame:\")\n",
    "    print(train_data)"
   ]
  },
  {
   "cell_type": "code",
   "execution_count": 12,
   "id": "3b9cd7c6-1a82-4aaa-aa3f-8240705647a7",
   "metadata": {},
   "outputs": [
    {
     "name": "stdout",
     "output_type": "stream",
     "text": [
      "Modified DataFrame:\n",
      "                                                  text  outcome  Geslacht  \\\n",
      "0    PERSOON 1 co ass Opnamegesprek met patient vad...        0         1   \n",
      "1    M PERSOON 1 PERSOON 2 RvC pre intake ivm opnam...        1         1   \n",
      "2    Verzendlijst Reden van verwijzing preintake om...        0         0   \n",
      "3    Gesprek met PERSOON 1 ANIOS en PERSOON 2 psych...        1         0   \n",
      "4    TC met INSTELLING 1 spiegel 66 desm 360 TC met...        0         0   \n",
      "..                                                 ...      ...       ...   \n",
      "735  Patient gesproken alleen Heeft afgelopen 48u 5...        1         1   \n",
      "736  1 Risico suicide en of risico agressie zelfbes...        0         0   \n",
      "737  PERSOON 1 telefonisch gesproken diegene hebben...        1         1   \n",
      "738  Pte zit al enkele jaren niet lekker in diens v...        0         0   \n",
      "739  TC VPK Afdeling waar Gunou nu ligt Ambulance n...        0         0   \n",
      "\n",
      "    Combined  \n",
      "0        0_1  \n",
      "1        1_1  \n",
      "2        0_0  \n",
      "3        1_0  \n",
      "4        0_0  \n",
      "..       ...  \n",
      "735      1_1  \n",
      "736      0_0  \n",
      "737      1_1  \n",
      "738      0_0  \n",
      "739      0_0  \n",
      "\n",
      "[740 rows x 4 columns]\n"
     ]
    }
   ],
   "source": [
    "if __name__ == \"__main__\":\n",
    "    val_data['text'] = val_data['text'].apply(replace_gendered_words)\n",
    "\n",
    "    # Print the modified DataFrame\n",
    "    print(\"Modified DataFrame:\")\n",
    "    print(val_data)"
   ]
  },
  {
   "cell_type": "code",
   "execution_count": 13,
   "id": "69ce492e-5f69-4cb4-9851-ced574edb2a8",
   "metadata": {},
   "outputs": [],
   "source": [
    "def get_split(text1):\n",
    "    l_total = []\n",
    "    chunk_size = 500\n",
    "    overlap = 50\n",
    "\n",
    "    words = text1.split()\n",
    "\n",
    "    for start_idx in range(0, len(words), chunk_size - overlap):\n",
    "        end_idx = start_idx + chunk_size\n",
    "        l_parcial = words[start_idx:end_idx]\n",
    "        l_total.append(\" \".join(l_parcial))\n",
    "\n",
    "    return l_total"
   ]
  },
  {
   "cell_type": "code",
   "execution_count": 14,
   "id": "6a550de9-faae-4b5f-ab2e-e7bec3e4ea08",
   "metadata": {},
   "outputs": [
    {
     "data": {
      "text/html": [
       "<div>\n",
       "<style scoped>\n",
       "    .dataframe tbody tr th:only-of-type {\n",
       "        vertical-align: middle;\n",
       "    }\n",
       "\n",
       "    .dataframe tbody tr th {\n",
       "        vertical-align: top;\n",
       "    }\n",
       "\n",
       "    .dataframe thead th {\n",
       "        text-align: right;\n",
       "    }\n",
       "</style>\n",
       "<table border=\"1\" class=\"dataframe\">\n",
       "  <thead>\n",
       "    <tr style=\"text-align: right;\">\n",
       "      <th></th>\n",
       "      <th>text</th>\n",
       "      <th>outcome</th>\n",
       "      <th>Geslacht</th>\n",
       "      <th>Combined</th>\n",
       "      <th>text_split</th>\n",
       "    </tr>\n",
       "  </thead>\n",
       "  <tbody>\n",
       "    <tr>\n",
       "      <th>0</th>\n",
       "      <td>Orienterend lab UDS aangevraagd Noodbed via IN...</td>\n",
       "      <td>0</td>\n",
       "      <td>1</td>\n",
       "      <td>0_1</td>\n",
       "      <td>[Orienterend lab UDS aangevraagd Noodbed via I...</td>\n",
       "    </tr>\n",
       "    <tr>\n",
       "      <th>1</th>\n",
       "      <td>PO We zien een matig verzorgde obese persoon m...</td>\n",
       "      <td>0</td>\n",
       "      <td>0</td>\n",
       "      <td>0_0</td>\n",
       "      <td>[PO We zien een matig verzorgde obese persoon ...</td>\n",
       "    </tr>\n",
       "    <tr>\n",
       "      <th>2</th>\n",
       "      <td>Telefonisch uitleg gegeven over de ECT studie ...</td>\n",
       "      <td>0</td>\n",
       "      <td>1</td>\n",
       "      <td>0_1</td>\n",
       "      <td>[Telefonisch uitleg gegeven over de ECT studie...</td>\n",
       "    </tr>\n",
       "    <tr>\n",
       "      <th>3</th>\n",
       "      <td>Vinkers dienstdoende psychiatrie Verwijzer PER...</td>\n",
       "      <td>0</td>\n",
       "      <td>0</td>\n",
       "      <td>0_0</td>\n",
       "      <td>[Vinkers dienstdoende psychiatrie Verwijzer PE...</td>\n",
       "    </tr>\n",
       "    <tr>\n",
       "      <th>4</th>\n",
       "      <td>1 Psychische problemen RvO Angst met psychotis...</td>\n",
       "      <td>0</td>\n",
       "      <td>1</td>\n",
       "      <td>0_1</td>\n",
       "      <td>[1 Psychische problemen RvO Angst met psychoti...</td>\n",
       "    </tr>\n",
       "  </tbody>\n",
       "</table>\n",
       "</div>"
      ],
      "text/plain": [
       "                                                text  outcome  Geslacht  \\\n",
       "0  Orienterend lab UDS aangevraagd Noodbed via IN...        0         1   \n",
       "1  PO We zien een matig verzorgde obese persoon m...        0         0   \n",
       "2  Telefonisch uitleg gegeven over de ECT studie ...        0         1   \n",
       "3  Vinkers dienstdoende psychiatrie Verwijzer PER...        0         0   \n",
       "4  1 Psychische problemen RvO Angst met psychotis...        0         1   \n",
       "\n",
       "  Combined                                         text_split  \n",
       "0      0_1  [Orienterend lab UDS aangevraagd Noodbed via I...  \n",
       "1      0_0  [PO We zien een matig verzorgde obese persoon ...  \n",
       "2      0_1  [Telefonisch uitleg gegeven over de ECT studie...  \n",
       "3      0_0  [Vinkers dienstdoende psychiatrie Verwijzer PE...  \n",
       "4      0_1  [1 Psychische problemen RvO Angst met psychoti...  "
      ]
     },
     "execution_count": 14,
     "metadata": {},
     "output_type": "execute_result"
    }
   ],
   "source": [
    "train_data['text_split'] = train_data['text'].apply(get_split)\n",
    "train_data.head()"
   ]
  },
  {
   "cell_type": "code",
   "execution_count": 15,
   "id": "da03e38b-a060-4cfc-be61-aaa6b8787ce3",
   "metadata": {},
   "outputs": [
    {
     "data": {
      "text/html": [
       "<div>\n",
       "<style scoped>\n",
       "    .dataframe tbody tr th:only-of-type {\n",
       "        vertical-align: middle;\n",
       "    }\n",
       "\n",
       "    .dataframe tbody tr th {\n",
       "        vertical-align: top;\n",
       "    }\n",
       "\n",
       "    .dataframe thead th {\n",
       "        text-align: right;\n",
       "    }\n",
       "</style>\n",
       "<table border=\"1\" class=\"dataframe\">\n",
       "  <thead>\n",
       "    <tr style=\"text-align: right;\">\n",
       "      <th></th>\n",
       "      <th>text</th>\n",
       "      <th>outcome</th>\n",
       "      <th>Geslacht</th>\n",
       "      <th>Combined</th>\n",
       "      <th>text_split</th>\n",
       "    </tr>\n",
       "  </thead>\n",
       "  <tbody>\n",
       "    <tr>\n",
       "      <th>0</th>\n",
       "      <td>PERSOON 1 co ass Opnamegesprek met patient vad...</td>\n",
       "      <td>0</td>\n",
       "      <td>1</td>\n",
       "      <td>0_1</td>\n",
       "      <td>[PERSOON 1 co ass Opnamegesprek met patient va...</td>\n",
       "    </tr>\n",
       "    <tr>\n",
       "      <th>1</th>\n",
       "      <td>M PERSOON 1 PERSOON 2 RvC pre intake ivm opnam...</td>\n",
       "      <td>1</td>\n",
       "      <td>1</td>\n",
       "      <td>1_1</td>\n",
       "      <td>[M PERSOON 1 PERSOON 2 RvC pre intake ivm opna...</td>\n",
       "    </tr>\n",
       "    <tr>\n",
       "      <th>2</th>\n",
       "      <td>Verzendlijst Reden van verwijzing preintake om...</td>\n",
       "      <td>0</td>\n",
       "      <td>0</td>\n",
       "      <td>0_0</td>\n",
       "      <td>[Verzendlijst Reden van verwijzing preintake o...</td>\n",
       "    </tr>\n",
       "    <tr>\n",
       "      <th>3</th>\n",
       "      <td>Gesprek met PERSOON 1 ANIOS en PERSOON 2 psych...</td>\n",
       "      <td>1</td>\n",
       "      <td>0</td>\n",
       "      <td>1_0</td>\n",
       "      <td>[Gesprek met PERSOON 1 ANIOS en PERSOON 2 psyc...</td>\n",
       "    </tr>\n",
       "    <tr>\n",
       "      <th>4</th>\n",
       "      <td>TC met INSTELLING 1 spiegel 66 desm 360 TC met...</td>\n",
       "      <td>0</td>\n",
       "      <td>0</td>\n",
       "      <td>0_0</td>\n",
       "      <td>[TC met INSTELLING 1 spiegel 66 desm 360 TC me...</td>\n",
       "    </tr>\n",
       "  </tbody>\n",
       "</table>\n",
       "</div>"
      ],
      "text/plain": [
       "                                                text  outcome  Geslacht  \\\n",
       "0  PERSOON 1 co ass Opnamegesprek met patient vad...        0         1   \n",
       "1  M PERSOON 1 PERSOON 2 RvC pre intake ivm opnam...        1         1   \n",
       "2  Verzendlijst Reden van verwijzing preintake om...        0         0   \n",
       "3  Gesprek met PERSOON 1 ANIOS en PERSOON 2 psych...        1         0   \n",
       "4  TC met INSTELLING 1 spiegel 66 desm 360 TC met...        0         0   \n",
       "\n",
       "  Combined                                         text_split  \n",
       "0      0_1  [PERSOON 1 co ass Opnamegesprek met patient va...  \n",
       "1      1_1  [M PERSOON 1 PERSOON 2 RvC pre intake ivm opna...  \n",
       "2      0_0  [Verzendlijst Reden van verwijzing preintake o...  \n",
       "3      1_0  [Gesprek met PERSOON 1 ANIOS en PERSOON 2 psyc...  \n",
       "4      0_0  [TC met INSTELLING 1 spiegel 66 desm 360 TC me...  "
      ]
     },
     "execution_count": 15,
     "metadata": {},
     "output_type": "execute_result"
    }
   ],
   "source": [
    "val_data['text_split'] = val_data['text'].apply(get_split)\n",
    "val_data.head()"
   ]
  },
  {
   "cell_type": "code",
   "execution_count": 16,
   "id": "dbacd1a5-47e2-440d-9c07-31359a990003",
   "metadata": {},
   "outputs": [
    {
     "data": {
      "text/plain": [
       "(18320, 18320, 18320)"
      ]
     },
     "execution_count": 16,
     "metadata": {},
     "output_type": "execute_result"
    }
   ],
   "source": [
    "train_l = []\n",
    "label_l = []\n",
    "index_l =[]\n",
    "for idx,row in train_data.iterrows():\n",
    "  for l in row['text_split']:\n",
    "    train_l.append(l)\n",
    "    label_l.append(row['outcome'])\n",
    "    index_l.append(idx)\n",
    "len(train_l), len(label_l), len(index_l)"
   ]
  },
  {
   "cell_type": "code",
   "execution_count": 17,
   "id": "62fb71d2-88cc-48c5-aa33-93fd1b694fc1",
   "metadata": {},
   "outputs": [
    {
     "data": {
      "text/plain": [
       "(4986, 4986, 4986)"
      ]
     },
     "execution_count": 17,
     "metadata": {},
     "output_type": "execute_result"
    }
   ],
   "source": [
    "val_l = []\n",
    "val_label_l = []\n",
    "val_index_l = []\n",
    "for idx,row in val_data.iterrows():\n",
    "  for l in row['text_split']:\n",
    "    val_l.append(l)\n",
    "    val_label_l.append(row['outcome'])\n",
    "    val_index_l.append(idx)\n",
    "len(val_l), len(val_label_l), len(val_index_l)"
   ]
  },
  {
   "cell_type": "code",
   "execution_count": 18,
   "id": "f18acd36-e2ba-4972-b67c-077527b9e85b",
   "metadata": {},
   "outputs": [
    {
     "data": {
      "text/html": [
       "<div>\n",
       "<style scoped>\n",
       "    .dataframe tbody tr th:only-of-type {\n",
       "        vertical-align: middle;\n",
       "    }\n",
       "\n",
       "    .dataframe tbody tr th {\n",
       "        vertical-align: top;\n",
       "    }\n",
       "\n",
       "    .dataframe thead th {\n",
       "        text-align: right;\n",
       "    }\n",
       "</style>\n",
       "<table border=\"1\" class=\"dataframe\">\n",
       "  <thead>\n",
       "    <tr style=\"text-align: right;\">\n",
       "      <th></th>\n",
       "      <th>text</th>\n",
       "      <th>label</th>\n",
       "    </tr>\n",
       "  </thead>\n",
       "  <tbody>\n",
       "    <tr>\n",
       "      <th>0</th>\n",
       "      <td>Orienterend lab UDS aangevraagd Noodbed via IN...</td>\n",
       "      <td>0</td>\n",
       "    </tr>\n",
       "    <tr>\n",
       "      <th>1</th>\n",
       "      <td>Dysfore angstige stemming met een wat versterk...</td>\n",
       "      <td>0</td>\n",
       "    </tr>\n",
       "    <tr>\n",
       "      <th>2</th>\n",
       "      <td>op een crisisplek bij INSTELLING 1 opgenomen D...</td>\n",
       "      <td>0</td>\n",
       "    </tr>\n",
       "    <tr>\n",
       "      <th>3</th>\n",
       "      <td>nystagmus geen diplopie geen ptosis gezicht sy...</td>\n",
       "      <td>0</td>\n",
       "    </tr>\n",
       "    <tr>\n",
       "      <th>4</th>\n",
       "      <td>kamer PERSOON 1 komt erg angstig over hiervoor...</td>\n",
       "      <td>0</td>\n",
       "    </tr>\n",
       "  </tbody>\n",
       "</table>\n",
       "</div>"
      ],
      "text/plain": [
       "                                                text  label\n",
       "0  Orienterend lab UDS aangevraagd Noodbed via IN...      0\n",
       "1  Dysfore angstige stemming met een wat versterk...      0\n",
       "2  op een crisisplek bij INSTELLING 1 opgenomen D...      0\n",
       "3  nystagmus geen diplopie geen ptosis gezicht sy...      0\n",
       "4  kamer PERSOON 1 komt erg angstig over hiervoor...      0"
      ]
     },
     "execution_count": 18,
     "metadata": {},
     "output_type": "execute_result"
    }
   ],
   "source": [
    "train_df = pd.DataFrame({'text':train_l, 'label':label_l})\n",
    "train_df.head()"
   ]
  },
  {
   "cell_type": "code",
   "execution_count": 19,
   "id": "766ad093-fb7d-4b53-a68e-7499a4472e67",
   "metadata": {},
   "outputs": [
    {
     "data": {
      "text/html": [
       "<div>\n",
       "<style scoped>\n",
       "    .dataframe tbody tr th:only-of-type {\n",
       "        vertical-align: middle;\n",
       "    }\n",
       "\n",
       "    .dataframe tbody tr th {\n",
       "        vertical-align: top;\n",
       "    }\n",
       "\n",
       "    .dataframe thead th {\n",
       "        text-align: right;\n",
       "    }\n",
       "</style>\n",
       "<table border=\"1\" class=\"dataframe\">\n",
       "  <thead>\n",
       "    <tr style=\"text-align: right;\">\n",
       "      <th></th>\n",
       "      <th>text</th>\n",
       "      <th>label</th>\n",
       "    </tr>\n",
       "  </thead>\n",
       "  <tbody>\n",
       "    <tr>\n",
       "      <th>0</th>\n",
       "      <td>PERSOON 1 co ass Opnamegesprek met patient vad...</td>\n",
       "      <td>0</td>\n",
       "    </tr>\n",
       "    <tr>\n",
       "      <th>1</th>\n",
       "      <td>taalbarriere bij vader Diegene vertelt dat PER...</td>\n",
       "      <td>0</td>\n",
       "    </tr>\n",
       "    <tr>\n",
       "      <th>2</th>\n",
       "      <td>25 mg Calciumcarbonaat colecalciferol 1dd1 500...</td>\n",
       "      <td>0</td>\n",
       "    </tr>\n",
       "    <tr>\n",
       "      <th>3</th>\n",
       "      <td>mes bij zich om zichzelf te beschermen Zegt di...</td>\n",
       "      <td>0</td>\n",
       "    </tr>\n",
       "    <tr>\n",
       "      <th>4</th>\n",
       "      <td>ziektes Haldol wat diegene nu krijgt geeft ook...</td>\n",
       "      <td>0</td>\n",
       "    </tr>\n",
       "  </tbody>\n",
       "</table>\n",
       "</div>"
      ],
      "text/plain": [
       "                                                text  label\n",
       "0  PERSOON 1 co ass Opnamegesprek met patient vad...      0\n",
       "1  taalbarriere bij vader Diegene vertelt dat PER...      0\n",
       "2  25 mg Calciumcarbonaat colecalciferol 1dd1 500...      0\n",
       "3  mes bij zich om zichzelf te beschermen Zegt di...      0\n",
       "4  ziektes Haldol wat diegene nu krijgt geeft ook...      0"
      ]
     },
     "execution_count": 19,
     "metadata": {},
     "output_type": "execute_result"
    }
   ],
   "source": [
    "val_df = pd.DataFrame({'text':val_l, 'label':val_label_l})\n",
    "val_df.head()"
   ]
  },
  {
   "cell_type": "code",
   "execution_count": 20,
   "id": "0e52322b-4cef-48b9-8d6b-11065e864a22",
   "metadata": {},
   "outputs": [],
   "source": [
    "train_df['original_index'] = index_l"
   ]
  },
  {
   "cell_type": "code",
   "execution_count": 21,
   "id": "8c2da658-9ff0-498f-9212-41f1c01a7f0a",
   "metadata": {},
   "outputs": [],
   "source": [
    "val_df['original_index'] = val_index_l"
   ]
  },
  {
   "cell_type": "code",
   "execution_count": 22,
   "id": "58f89cde-7f3e-4cc6-b363-eaba91dddef1",
   "metadata": {},
   "outputs": [
    {
     "data": {
      "text/html": [
       "<div>\n",
       "<style scoped>\n",
       "    .dataframe tbody tr th:only-of-type {\n",
       "        vertical-align: middle;\n",
       "    }\n",
       "\n",
       "    .dataframe tbody tr th {\n",
       "        vertical-align: top;\n",
       "    }\n",
       "\n",
       "    .dataframe thead th {\n",
       "        text-align: right;\n",
       "    }\n",
       "</style>\n",
       "<table border=\"1\" class=\"dataframe\">\n",
       "  <thead>\n",
       "    <tr style=\"text-align: right;\">\n",
       "      <th></th>\n",
       "      <th>text</th>\n",
       "      <th>label</th>\n",
       "      <th>original_index</th>\n",
       "    </tr>\n",
       "  </thead>\n",
       "  <tbody>\n",
       "    <tr>\n",
       "      <th>0</th>\n",
       "      <td>Orienterend lab UDS aangevraagd Noodbed via IN...</td>\n",
       "      <td>0</td>\n",
       "      <td>0</td>\n",
       "    </tr>\n",
       "    <tr>\n",
       "      <th>1</th>\n",
       "      <td>Dysfore angstige stemming met een wat versterk...</td>\n",
       "      <td>0</td>\n",
       "      <td>0</td>\n",
       "    </tr>\n",
       "    <tr>\n",
       "      <th>2</th>\n",
       "      <td>op een crisisplek bij INSTELLING 1 opgenomen D...</td>\n",
       "      <td>0</td>\n",
       "      <td>0</td>\n",
       "    </tr>\n",
       "    <tr>\n",
       "      <th>3</th>\n",
       "      <td>nystagmus geen diplopie geen ptosis gezicht sy...</td>\n",
       "      <td>0</td>\n",
       "      <td>0</td>\n",
       "    </tr>\n",
       "    <tr>\n",
       "      <th>4</th>\n",
       "      <td>kamer PERSOON 1 komt erg angstig over hiervoor...</td>\n",
       "      <td>0</td>\n",
       "      <td>0</td>\n",
       "    </tr>\n",
       "    <tr>\n",
       "      <th>...</th>\n",
       "      <td>...</td>\n",
       "      <td>...</td>\n",
       "      <td>...</td>\n",
       "    </tr>\n",
       "    <tr>\n",
       "      <th>18315</th>\n",
       "      <td>paslengte en armswing geen verbreed gangspoor ...</td>\n",
       "      <td>1</td>\n",
       "      <td>2798</td>\n",
       "    </tr>\n",
       "    <tr>\n",
       "      <th>18316</th>\n",
       "      <td>Opnamegesprek in dienst Aanwezig pte vpk PERSO...</td>\n",
       "      <td>1</td>\n",
       "      <td>2799</td>\n",
       "    </tr>\n",
       "    <tr>\n",
       "      <th>18317</th>\n",
       "      <td>Lukt ook niet om afspraken met diens te maken ...</td>\n",
       "      <td>1</td>\n",
       "      <td>2799</td>\n",
       "    </tr>\n",
       "    <tr>\n",
       "      <th>18318</th>\n",
       "      <td>aan Er diens geen aanwijzingen voor het bestaa...</td>\n",
       "      <td>1</td>\n",
       "      <td>2799</td>\n",
       "    </tr>\n",
       "    <tr>\n",
       "      <th>18319</th>\n",
       "      <td>diegene ingenomen heeft 20 diazepam 5 mg en ve...</td>\n",
       "      <td>1</td>\n",
       "      <td>2799</td>\n",
       "    </tr>\n",
       "  </tbody>\n",
       "</table>\n",
       "<p>18320 rows × 3 columns</p>\n",
       "</div>"
      ],
      "text/plain": [
       "                                                    text  label  \\\n",
       "0      Orienterend lab UDS aangevraagd Noodbed via IN...      0   \n",
       "1      Dysfore angstige stemming met een wat versterk...      0   \n",
       "2      op een crisisplek bij INSTELLING 1 opgenomen D...      0   \n",
       "3      nystagmus geen diplopie geen ptosis gezicht sy...      0   \n",
       "4      kamer PERSOON 1 komt erg angstig over hiervoor...      0   \n",
       "...                                                  ...    ...   \n",
       "18315  paslengte en armswing geen verbreed gangspoor ...      1   \n",
       "18316  Opnamegesprek in dienst Aanwezig pte vpk PERSO...      1   \n",
       "18317  Lukt ook niet om afspraken met diens te maken ...      1   \n",
       "18318  aan Er diens geen aanwijzingen voor het bestaa...      1   \n",
       "18319  diegene ingenomen heeft 20 diazepam 5 mg en ve...      1   \n",
       "\n",
       "       original_index  \n",
       "0                   0  \n",
       "1                   0  \n",
       "2                   0  \n",
       "3                   0  \n",
       "4                   0  \n",
       "...               ...  \n",
       "18315            2798  \n",
       "18316            2799  \n",
       "18317            2799  \n",
       "18318            2799  \n",
       "18319            2799  \n",
       "\n",
       "[18320 rows x 3 columns]"
      ]
     },
     "execution_count": 22,
     "metadata": {},
     "output_type": "execute_result"
    }
   ],
   "source": [
    "train_df"
   ]
  },
  {
   "cell_type": "code",
   "execution_count": 23,
   "id": "ee66b04c-e6dd-4dbc-be0f-5fa1ebc6def3",
   "metadata": {},
   "outputs": [
    {
     "data": {
      "text/html": [
       "<div>\n",
       "<style scoped>\n",
       "    .dataframe tbody tr th:only-of-type {\n",
       "        vertical-align: middle;\n",
       "    }\n",
       "\n",
       "    .dataframe tbody tr th {\n",
       "        vertical-align: top;\n",
       "    }\n",
       "\n",
       "    .dataframe thead th {\n",
       "        text-align: right;\n",
       "    }\n",
       "</style>\n",
       "<table border=\"1\" class=\"dataframe\">\n",
       "  <thead>\n",
       "    <tr style=\"text-align: right;\">\n",
       "      <th></th>\n",
       "      <th>text</th>\n",
       "      <th>label</th>\n",
       "      <th>original_index</th>\n",
       "    </tr>\n",
       "  </thead>\n",
       "  <tbody>\n",
       "    <tr>\n",
       "      <th>0</th>\n",
       "      <td>PERSOON 1 co ass Opnamegesprek met patient vad...</td>\n",
       "      <td>0</td>\n",
       "      <td>0</td>\n",
       "    </tr>\n",
       "    <tr>\n",
       "      <th>1</th>\n",
       "      <td>taalbarriere bij vader Diegene vertelt dat PER...</td>\n",
       "      <td>0</td>\n",
       "      <td>0</td>\n",
       "    </tr>\n",
       "    <tr>\n",
       "      <th>2</th>\n",
       "      <td>25 mg Calciumcarbonaat colecalciferol 1dd1 500...</td>\n",
       "      <td>0</td>\n",
       "      <td>0</td>\n",
       "    </tr>\n",
       "    <tr>\n",
       "      <th>3</th>\n",
       "      <td>mes bij zich om zichzelf te beschermen Zegt di...</td>\n",
       "      <td>0</td>\n",
       "      <td>0</td>\n",
       "    </tr>\n",
       "    <tr>\n",
       "      <th>4</th>\n",
       "      <td>ziektes Haldol wat diegene nu krijgt geeft ook...</td>\n",
       "      <td>0</td>\n",
       "      <td>0</td>\n",
       "    </tr>\n",
       "    <tr>\n",
       "      <th>...</th>\n",
       "      <td>...</td>\n",
       "      <td>...</td>\n",
       "      <td>...</td>\n",
       "    </tr>\n",
       "    <tr>\n",
       "      <th>4981</th>\n",
       "      <td>ruzie Er lijkt geen sprake te diens van fysiek...</td>\n",
       "      <td>0</td>\n",
       "      <td>739</td>\n",
       "    </tr>\n",
       "    <tr>\n",
       "      <th>4982</th>\n",
       "      <td>5mg tofranil 10mg Intoxicaties Niet uitgevraag...</td>\n",
       "      <td>0</td>\n",
       "      <td>739</td>\n",
       "    </tr>\n",
       "    <tr>\n",
       "      <th>4983</th>\n",
       "      <td>klachten aanwezig Diegene wil graag dat er op ...</td>\n",
       "      <td>0</td>\n",
       "      <td>739</td>\n",
       "    </tr>\n",
       "    <tr>\n",
       "      <th>4984</th>\n",
       "      <td>contract is op verzoek van mdr vertaald mdr st...</td>\n",
       "      <td>0</td>\n",
       "      <td>739</td>\n",
       "    </tr>\n",
       "    <tr>\n",
       "      <th>4985</th>\n",
       "      <td>gehad waarvoor AB geeft aan nu soortgelijke kl...</td>\n",
       "      <td>0</td>\n",
       "      <td>739</td>\n",
       "    </tr>\n",
       "  </tbody>\n",
       "</table>\n",
       "<p>4986 rows × 3 columns</p>\n",
       "</div>"
      ],
      "text/plain": [
       "                                                   text  label  original_index\n",
       "0     PERSOON 1 co ass Opnamegesprek met patient vad...      0               0\n",
       "1     taalbarriere bij vader Diegene vertelt dat PER...      0               0\n",
       "2     25 mg Calciumcarbonaat colecalciferol 1dd1 500...      0               0\n",
       "3     mes bij zich om zichzelf te beschermen Zegt di...      0               0\n",
       "4     ziektes Haldol wat diegene nu krijgt geeft ook...      0               0\n",
       "...                                                 ...    ...             ...\n",
       "4981  ruzie Er lijkt geen sprake te diens van fysiek...      0             739\n",
       "4982  5mg tofranil 10mg Intoxicaties Niet uitgevraag...      0             739\n",
       "4983  klachten aanwezig Diegene wil graag dat er op ...      0             739\n",
       "4984  contract is op verzoek van mdr vertaald mdr st...      0             739\n",
       "4985  gehad waarvoor AB geeft aan nu soortgelijke kl...      0             739\n",
       "\n",
       "[4986 rows x 3 columns]"
      ]
     },
     "execution_count": 23,
     "metadata": {},
     "output_type": "execute_result"
    }
   ],
   "source": [
    "val_df"
   ]
  },
  {
   "cell_type": "code",
   "execution_count": 24,
   "id": "c76909c5-69e0-431a-a0c9-e6bafa1cf2e6",
   "metadata": {},
   "outputs": [],
   "source": [
    "import transformers"
   ]
  },
  {
   "cell_type": "code",
   "execution_count": 25,
   "id": "2c1d15d9-ac5a-4fc2-bf73-ef40f8b9fa51",
   "metadata": {},
   "outputs": [],
   "source": [
    "import keras"
   ]
  },
  {
   "cell_type": "code",
   "execution_count": 26,
   "id": "f0e2b31f-1e1d-4fcf-b1a2-e735efb9adaa",
   "metadata": {},
   "outputs": [
    {
     "data": {
      "application/vnd.jupyter.widget-view+json": {
       "model_id": "55faf74f15df4895a0265a52d3f1d415",
       "version_major": 2,
       "version_minor": 0
      },
      "text/plain": [
       "VBox(children=(HTML(value='<center> <img\\nsrc=https://huggingface.co/front/assets/huggingface_logo-noborder.sv…"
      ]
     },
     "metadata": {},
     "output_type": "display_data"
    }
   ],
   "source": [
    "from huggingface_hub import notebook_login\n",
    "\n",
    "notebook_login()"
   ]
  },
  {
   "cell_type": "code",
   "execution_count": 27,
   "id": "4f229fc0-1199-4410-b47b-13f8aef70e2d",
   "metadata": {},
   "outputs": [
    {
     "name": "stderr",
     "output_type": "stream",
     "text": [
      "2023-11-12 01:11:12.951168: I tensorflow/core/common_runtime/gpu/gpu_device.cc:1886] Created device /job:localhost/replica:0/task:0/device:GPU:0 with 21476 MB memory:  -> device: 0, name: Quadro RTX 6000, pci bus id: 0000:3b:00.0, compute capability: 7.5\n",
      "2023-11-12 01:11:13.578966: I tensorflow/tsl/platform/default/subprocess.cc:304] Start cannot spawn child process: No such file or directory\n",
      "All model checkpoint layers were used when initializing TFBertForSequenceClassification.\n",
      "\n",
      "Some layers of TFBertForSequenceClassification were not initialized from the model checkpoint at JoppeK/BERTje-base-cased-copy and are newly initialized: ['classifier', 'bert/pooler/dense/bias:0', 'bert/pooler/dense/kernel:0']\n",
      "You should probably TRAIN this model on a down-stream task to be able to use it for predictions and inference.\n"
     ]
    }
   ],
   "source": [
    "from transformers import AutoTokenizer, TFAutoModel, TFAutoModelForSequenceClassification\n",
    "\n",
    "tokenizer = AutoTokenizer.from_pretrained(\"JoppeK/BERTje-base-cased-copy\")\n",
    "model = TFAutoModelForSequenceClassification.from_pretrained(\"JoppeK/BERTje-base-cased-copy\", num_labels=2)  # Tensorflow"
   ]
  },
  {
   "cell_type": "code",
   "execution_count": 28,
   "id": "c46a3fbc-a679-4159-8c5d-33467764c122",
   "metadata": {},
   "outputs": [],
   "source": [
    "def tokenize_function(example):\n",
    "    return tokenizer(example[\"text\"], padding=True, truncation=True, max_length=512)"
   ]
  },
  {
   "cell_type": "code",
   "execution_count": 29,
   "id": "c846315a-9dc5-4abd-a879-32754ba74d80",
   "metadata": {},
   "outputs": [],
   "source": [
    "from datasets import Dataset"
   ]
  },
  {
   "cell_type": "code",
   "execution_count": 30,
   "id": "9618f7e1-7df7-4faa-9338-08aa80649a00",
   "metadata": {},
   "outputs": [
    {
     "name": "stdout",
     "output_type": "stream",
     "text": [
      "Dataset({\n",
      "    features: ['text', 'label', 'original_index'],\n",
      "    num_rows: 18320\n",
      "})\n"
     ]
    }
   ],
   "source": [
    "raw_dataset_train = Dataset.from_pandas(train_df.reset_index(drop=True))\n",
    "print(raw_dataset_train)"
   ]
  },
  {
   "cell_type": "code",
   "execution_count": 31,
   "id": "4d164613-5f22-4e85-b3d4-33e95cfe77a6",
   "metadata": {},
   "outputs": [
    {
     "name": "stdout",
     "output_type": "stream",
     "text": [
      "Dataset({\n",
      "    features: ['text', 'label', 'original_index'],\n",
      "    num_rows: 4986\n",
      "})\n"
     ]
    }
   ],
   "source": [
    "raw_dataset_val = Dataset.from_pandas(val_df.reset_index(drop=True))\n",
    "print(raw_dataset_val)"
   ]
  },
  {
   "cell_type": "code",
   "execution_count": 32,
   "id": "14272550-c302-4f93-8268-00d391e9adfd",
   "metadata": {},
   "outputs": [
    {
     "data": {
      "application/vnd.jupyter.widget-view+json": {
       "model_id": "e034a527cc0542ea90eeaa1efc18711a",
       "version_major": 2,
       "version_minor": 0
      },
      "text/plain": [
       "Map:   0%|          | 0/18320 [00:00<?, ? examples/s]"
      ]
     },
     "metadata": {},
     "output_type": "display_data"
    },
    {
     "data": {
      "text/plain": [
       "Dataset({\n",
       "    features: ['text', 'label', 'original_index', 'input_ids', 'token_type_ids', 'attention_mask'],\n",
       "    num_rows: 18320\n",
       "})"
      ]
     },
     "execution_count": 32,
     "metadata": {},
     "output_type": "execute_result"
    }
   ],
   "source": [
    "tokenized_dataset_train = raw_dataset_train.map(tokenize_function, batched=True)\n",
    "tokenized_dataset_train"
   ]
  },
  {
   "cell_type": "code",
   "execution_count": 33,
   "id": "2cbf0f96-4bb4-40ff-b0ab-76e1bcd09879",
   "metadata": {},
   "outputs": [
    {
     "data": {
      "application/vnd.jupyter.widget-view+json": {
       "model_id": "d3a546bb03c344c38b011b0ac05d6f81",
       "version_major": 2,
       "version_minor": 0
      },
      "text/plain": [
       "Map:   0%|          | 0/4986 [00:00<?, ? examples/s]"
      ]
     },
     "metadata": {},
     "output_type": "display_data"
    }
   ],
   "source": [
    "tokenized_dataset_val = raw_dataset_val.map(tokenize_function, batched=True)"
   ]
  },
  {
   "cell_type": "code",
   "execution_count": 34,
   "id": "db751ec0-11aa-43de-b4d9-6fb57f4cc496",
   "metadata": {},
   "outputs": [],
   "source": [
    "from transformers import DataCollatorWithPadding\n",
    "\n",
    "data_collator = DataCollatorWithPadding(tokenizer=tokenizer, return_tensors=\"tf\")"
   ]
  },
  {
   "cell_type": "code",
   "execution_count": 35,
   "id": "ab2c2c6f-c17b-4880-b9e1-a6c885773d41",
   "metadata": {},
   "outputs": [
    {
     "name": "stderr",
     "output_type": "stream",
     "text": [
      "/hpc/uu_ics_ads/anaconda3/envs/vrabias/lib/python3.9/site-packages/datasets/arrow_dataset.py:400: FutureWarning: The output of `to_tf_dataset` will change when a passing single element list for `labels` or `columns` in the next datasets version. To return a tuple structure rather than dict, pass a single string.\n",
      "Old behaviour: columns=['a'], labels=['labels'] -> (tf.Tensor, tf.Tensor)  \n",
      "             : columns='a', labels='labels' -> (tf.Tensor, tf.Tensor)  \n",
      "New behaviour: columns=['a'],labels=['labels'] -> ({'a': tf.Tensor}, {'labels': tf.Tensor})  \n",
      "             : columns='a', labels='labels' -> (tf.Tensor, tf.Tensor) \n",
      "  warnings.warn(\n",
      "You're using a BertTokenizerFast tokenizer. Please note that with a fast tokenizer, using the `__call__` method is faster than using a method to encode the text followed by a call to the `pad` method to get a padded encoding.\n"
     ]
    }
   ],
   "source": [
    "tf_train_dataset = tokenized_dataset_train.to_tf_dataset(\n",
    "    columns=[\"attention_mask\", \"input_ids\", \"token_type_ids\"],\n",
    "    label_cols=[\"labels\"],\n",
    "    shuffle=True,\n",
    "    collate_fn=data_collator,\n",
    "    batch_size=16,\n",
    ")"
   ]
  },
  {
   "cell_type": "code",
   "execution_count": 36,
   "id": "72b77e8e-1c4b-4f45-970a-17aff0946bc3",
   "metadata": {},
   "outputs": [],
   "source": [
    "tf_val_dataset = tokenized_dataset_val.to_tf_dataset(\n",
    "    columns=[\"attention_mask\", \"input_ids\", \"token_type_ids\"],\n",
    "    label_cols=[\"labels\"],\n",
    "    shuffle=False,\n",
    "    collate_fn=data_collator,\n",
    "    batch_size=16,\n",
    ")"
   ]
  },
  {
   "cell_type": "code",
   "execution_count": 37,
   "id": "d105dafa-4c2b-4aa4-9b09-9566b9d64b5e",
   "metadata": {},
   "outputs": [],
   "source": [
    "from tensorflow.keras.optimizers.schedules import PolynomialDecay\n",
    "\n",
    "batch_size = 16\n",
    "num_epochs = 3\n",
    "# The number of training steps is the number of samples in the dataset, divided by the batch size then multiplied\n",
    "# by the total number of epochs. Note that the tf_train_dataset here is a batched tf.data.Dataset,\n",
    "# not the original Hugging Face Dataset, so its len() is already num_samples // batch_size.\n",
    "num_train_steps = len(tf_train_dataset) * num_epochs\n",
    "lr_scheduler = PolynomialDecay(\n",
    "    initial_learning_rate=5e-5, end_learning_rate=0.0, decay_steps=num_train_steps\n",
    ")\n",
    "from tensorflow.keras.optimizers.legacy import Adam\n",
    "\n",
    "opt = Adam(learning_rate=lr_scheduler)"
   ]
  },
  {
   "cell_type": "code",
   "execution_count": 38,
   "id": "13b774d4-a371-4817-80dd-2cebcb0fe722",
   "metadata": {},
   "outputs": [],
   "source": [
    "loss = tf.keras.losses.SparseCategoricalCrossentropy(from_logits=True)\n",
    "model.compile(optimizer=opt, loss=loss, metrics=['accuracy'])"
   ]
  },
  {
   "cell_type": "code",
   "execution_count": 39,
   "id": "9ceb8023-d38f-4da2-aa1b-ca2466c318f4",
   "metadata": {},
   "outputs": [],
   "source": [
    "class_weights = {0: 1, 1: 2}"
   ]
  },
  {
   "cell_type": "code",
   "execution_count": 40,
   "id": "41661643-cf72-483c-8f2b-6aa6d64250af",
   "metadata": {},
   "outputs": [
    {
     "name": "stdout",
     "output_type": "stream",
     "text": [
      "Epoch 1/3\n",
      "1145/1145 [==============================] - 1002s 862ms/step - loss: 0.5505 - accuracy: 0.8631 - val_loss: 0.3782 - val_accuracy: 0.8394\n",
      "Epoch 2/3\n",
      "1145/1145 [==============================] - 982s 857ms/step - loss: 0.4212 - accuracy: 0.8745 - val_loss: 0.3785 - val_accuracy: 0.8472\n",
      "Epoch 3/3\n",
      "1145/1145 [==============================] - 982s 857ms/step - loss: 0.1831 - accuracy: 0.9513 - val_loss: 0.4928 - val_accuracy: 0.8570\n"
     ]
    },
    {
     "data": {
      "text/plain": [
       "<keras.src.callbacks.History at 0x7f37b6bee700>"
      ]
     },
     "execution_count": 40,
     "metadata": {},
     "output_type": "execute_result"
    }
   ],
   "source": [
    "model.fit(\n",
    "    tf_train_dataset,\n",
    "    epochs=3,\n",
    "    batch_size=16,\n",
    "    validation_data=tf_val_dataset,\n",
    "    class_weight=class_weights\n",
    ")"
   ]
  },
  {
   "cell_type": "code",
   "execution_count": 41,
   "id": "5e4212b4-b013-4c7c-981b-595e63611f84",
   "metadata": {},
   "outputs": [
    {
     "data": {
      "application/vnd.jupyter.widget-view+json": {
       "model_id": "00950aba8fef4ad1a6d112381a8d5532",
       "version_major": 2,
       "version_minor": 0
      },
      "text/plain": [
       "tf_model.h5:   0%|          | 0.00/437M [00:00<?, ?B/s]"
      ]
     },
     "metadata": {},
     "output_type": "display_data"
    }
   ],
   "source": [
    "model.push_to_hub(\"BERTje_genderneutral_52\")"
   ]
  },
  {
   "cell_type": "code",
   "execution_count": 42,
   "id": "85262c19-8905-487c-a9a3-67d3453ba03b",
   "metadata": {},
   "outputs": [
    {
     "data": {
      "text/plain": [
       "CommitInfo(commit_url='https://huggingface.co/JoppeK/BERTje_genderneutral_52/commit/fb79b761ee81e5d2a2dd3b1b01fd4638d754c5d5', commit_message='Upload tokenizer', commit_description='', oid='fb79b761ee81e5d2a2dd3b1b01fd4638d754c5d5', pr_url=None, pr_revision=None, pr_num=None)"
      ]
     },
     "execution_count": 42,
     "metadata": {},
     "output_type": "execute_result"
    }
   ],
   "source": [
    "tokenizer.push_to_hub(\"BERTje_genderneutral_52\")"
   ]
  },
  {
   "cell_type": "code",
   "execution_count": null,
   "id": "3fb212de-8651-41e0-9865-ae5058281465",
   "metadata": {},
   "outputs": [],
   "source": []
  }
 ],
 "metadata": {
  "kernelspec": {
   "display_name": "vrabiasKernelJoppe",
   "language": "python",
   "name": "vrabiaskerneljoppe"
  },
  "language_info": {
   "codemirror_mode": {
    "name": "ipython",
    "version": 3
   },
   "file_extension": ".py",
   "mimetype": "text/x-python",
   "name": "python",
   "nbconvert_exporter": "python",
   "pygments_lexer": "ipython3",
   "version": "3.9.18"
  }
 },
 "nbformat": 4,
 "nbformat_minor": 5
}
