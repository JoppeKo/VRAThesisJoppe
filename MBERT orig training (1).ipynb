{
 "cells": [
  {
   "cell_type": "code",
   "execution_count": null,
   "id": "5c93f1bd-816e-47a9-bdaf-a7e1f839471b",
   "metadata": {},
   "outputs": [],
   "source": [
    "import pandas as pd\n",
    "import re\n",
    "import torch\n",
    "from torch.utils.data import DataLoader, TensorDataset\n",
    "from transformers import AutoTokenizer, AutoModelForSequenceClassification, TrainingArguments, Trainer\n",
    "import accelerate\n",
    "import torch.nn as nn\n",
    "from torch.optim import Adam"
   ]
  },
  {
   "cell_type": "code",
   "execution_count": null,
   "id": "d8f88d31-ffcc-43f5-bebf-82763462497f",
   "metadata": {},
   "outputs": [],
   "source": [
    "from tqdm.auto import tqdm"
   ]
  },
  {
   "cell_type": "code",
   "execution_count": null,
   "id": "4bbfd341-cdb9-4976-a5c9-140390a03a81",
   "metadata": {},
   "outputs": [],
   "source": [
    "train_data = pd.read_csv('hpc_space/MBERT5/train_data_mid_5.csv')\n",
    "val_data = pd.read_csv('hpc_space/MBERT5/val_data_mid_5.csv')"
   ]
  },
  {
   "cell_type": "code",
   "execution_count": null,
   "id": "76856efc-a1f9-4867-b4b4-2ac0742ecd98",
   "metadata": {},
   "outputs": [],
   "source": [
    "train_data = train_data.sample(frac=1, random_state=42)"
   ]
  },
  {
   "cell_type": "code",
   "execution_count": null,
   "id": "e8afe905-4f6b-421b-8eef-dc3fb83aa29f",
   "metadata": {},
   "outputs": [],
   "source": [
    "def clean_txt(text):\n",
    "    text = re.sub(\"'\", \"\", text)\n",
    "    text = re.sub(\"(\\\\W)+\", \" \", text)\n",
    "    return text"
   ]
  },
  {
   "cell_type": "code",
   "execution_count": null,
   "id": "d6733dad-4ef7-416d-bb87-9603c325390f",
   "metadata": {},
   "outputs": [],
   "source": [
    "train_data['text'] = train_data.text.apply(clean_txt)\n",
    "val_data['text'] = val_data.text.apply(clean_txt)"
   ]
  },
  {
   "cell_type": "code",
   "execution_count": null,
   "id": "c674dd26-834b-470f-9cbe-8c528de8f6f6",
   "metadata": {},
   "outputs": [],
   "source": [
    "def get_split(text1):\n",
    "    l_total = []\n",
    "    chunk_size = 500\n",
    "    overlap = 50\n",
    "\n",
    "    words = text1.split()\n",
    "\n",
    "    for start_idx in range(0, len(words), chunk_size - overlap):\n",
    "        end_idx = start_idx + chunk_size\n",
    "        l_parcial = words[start_idx:end_idx]\n",
    "        l_total.append(\" \".join(l_parcial))\n",
    "\n",
    "    return l_total"
   ]
  },
  {
   "cell_type": "code",
   "execution_count": null,
   "id": "1670ce8c-363e-495d-b1f0-94348f0d7561",
   "metadata": {},
   "outputs": [],
   "source": [
    "train_data['text_split'] = train_data['text'].apply(get_split)\n",
    "val_data['text_split'] = val_data['text'].apply(get_split)"
   ]
  },
  {
   "cell_type": "code",
   "execution_count": null,
   "id": "1e6b5492-910d-47f2-8027-bcd2d029f64a",
   "metadata": {},
   "outputs": [],
   "source": [
    "train_l = []\n",
    "label_l = []\n",
    "index_l = []\n",
    "\n",
    "for idx, row in train_data.iterrows():\n",
    "    for l in row['text_split']:\n",
    "        train_l.append(l)\n",
    "        label_l.append(row['outcome'])\n",
    "        index_l.append(idx)"
   ]
  },
  {
   "cell_type": "code",
   "execution_count": null,
   "id": "208abd61-119f-4174-a32c-b129f95eb854",
   "metadata": {},
   "outputs": [],
   "source": [
    "val_l = []\n",
    "val_label_l = []\n",
    "val_index_l = []\n",
    "\n",
    "for idx, row in val_data.iterrows():\n",
    "    for l in row['text_split']:\n",
    "        val_l.append(l)\n",
    "        val_label_l.append(row['outcome'])\n",
    "        val_index_l.append(idx)"
   ]
  },
  {
   "cell_type": "code",
   "execution_count": null,
   "id": "ba0f8d1c-e364-4339-8799-8ee135d6384e",
   "metadata": {},
   "outputs": [],
   "source": [
    "train_df = pd.DataFrame({'text':train_l, 'label':label_l})\n",
    "train_df.head()"
   ]
  },
  {
   "cell_type": "code",
   "execution_count": null,
   "id": "96208aa5-ee36-4ab3-884b-1083aa4686d5",
   "metadata": {},
   "outputs": [],
   "source": [
    "val_df = pd.DataFrame({'text':val_l, 'label':val_label_l})\n",
    "val_df.head()"
   ]
  },
  {
   "cell_type": "code",
   "execution_count": null,
   "id": "a135e95b-8da5-4bb9-97e7-d8b4ad4c3e42",
   "metadata": {},
   "outputs": [],
   "source": [
    "train_texts = train_df['text'].tolist()\n",
    "train_labels = train_df['label'].tolist()"
   ]
  },
  {
   "cell_type": "code",
   "execution_count": null,
   "id": "d3e9774c-ed0a-4b6e-846e-f38b0480b424",
   "metadata": {},
   "outputs": [],
   "source": [
    "eval_texts = val_df['text'].tolist()\n",
    "eval_labels = val_df['label'].tolist()"
   ]
  },
  {
   "cell_type": "code",
   "execution_count": null,
   "id": "cca1cb05-7483-4e2d-969f-1d33fd30abaa",
   "metadata": {},
   "outputs": [],
   "source": [
    "import torchvision\n",
    "import torchaudio"
   ]
  },
  {
   "cell_type": "code",
   "execution_count": null,
   "id": "fa6f1828-00e2-4745-9a8e-ced9851733d0",
   "metadata": {},
   "outputs": [],
   "source": [
    "from huggingface_hub import notebook_login\n",
    "\n",
    "notebook_login()"
   ]
  },
  {
   "cell_type": "code",
   "execution_count": null,
   "id": "f4d61ba1-8e9b-45d6-8320-f84755acb888",
   "metadata": {},
   "outputs": [],
   "source": [
    "tokenizer = AutoTokenizer.from_pretrained(\"JoppeK/MBERT_copy\")\n",
    "model = AutoModelForSequenceClassification.from_pretrained(\"JoppeK/MBERT_copy\", num_labels=2)"
   ]
  },
  {
   "cell_type": "code",
   "execution_count": null,
   "id": "b3446b69-6710-4809-a29d-ed1e85de42b0",
   "metadata": {},
   "outputs": [],
   "source": [
    "def tokenize_function(example):\n",
    "    return tokenizer(\n",
    "        example[\"text\"],\n",
    "        padding=\"max_length\",\n",
    "        truncation=True,\n",
    "        max_length=512\n",
    "    )"
   ]
  },
  {
   "cell_type": "code",
   "execution_count": null,
   "id": "4e688458-5e4e-4891-9362-8bf6f5c92f68",
   "metadata": {},
   "outputs": [],
   "source": [
    "from datasets import Dataset"
   ]
  },
  {
   "cell_type": "code",
   "execution_count": null,
   "id": "e8d521b5-34d8-4b17-a5c3-da0299b99bd9",
   "metadata": {},
   "outputs": [],
   "source": [
    "raw_dataset_train = Dataset.from_pandas(train_df.reset_index(drop=True))\n",
    "print(raw_dataset_train)"
   ]
  },
  {
   "cell_type": "code",
   "execution_count": null,
   "id": "4718e89c-de55-4592-8be3-ab5460843f17",
   "metadata": {},
   "outputs": [],
   "source": [
    "raw_dataset_val = Dataset.from_pandas(val_df.reset_index(drop=True))\n",
    "print(raw_dataset_val)"
   ]
  },
  {
   "cell_type": "code",
   "execution_count": null,
   "id": "6ac8d3e6-2933-4dee-88ca-363fc3f4fcb4",
   "metadata": {},
   "outputs": [],
   "source": [
    "tokenized_dataset_train = raw_dataset_train.map(tokenize_function, batched=True)\n",
    "tokenized_dataset_train"
   ]
  },
  {
   "cell_type": "code",
   "execution_count": null,
   "id": "36ef65f2-23c9-48d4-850f-95216b314af1",
   "metadata": {},
   "outputs": [],
   "source": [
    "tokenized_dataset_val = raw_dataset_val.map(tokenize_function, batched=True)"
   ]
  },
  {
   "cell_type": "code",
   "execution_count": null,
   "id": "6770f5a9-a600-4277-b513-1f91b8a4fbf0",
   "metadata": {},
   "outputs": [],
   "source": [
    "from transformers import DataCollatorWithPadding\n",
    "\n",
    "data_collator = DataCollatorWithPadding(tokenizer=tokenizer)"
   ]
  },
  {
   "cell_type": "code",
   "execution_count": null,
   "id": "0c65b316-61df-4983-bdaa-6ad7d13a4b70",
   "metadata": {},
   "outputs": [],
   "source": [
    "tokenized_dataset_train = tokenized_dataset_train.remove_columns([\"text\"])\n",
    "tokenized_dataset_train = tokenized_dataset_train.rename_column(\"label\", \"labels\")\n",
    "tokenized_dataset_train.set_format(\"torch\")\n",
    "tokenized_dataset_train.column_names"
   ]
  },
  {
   "cell_type": "code",
   "execution_count": null,
   "id": "3fcdadda-617b-4c93-9906-bbe31d6a4062",
   "metadata": {},
   "outputs": [],
   "source": [
    "tokenized_dataset_val = tokenized_dataset_val.remove_columns([\"text\"])\n",
    "tokenized_dataset_val = tokenized_dataset_val.rename_column(\"label\", \"labels\")\n",
    "tokenized_dataset_val.set_format(\"torch\")\n",
    "tokenized_dataset_val.column_names"
   ]
  },
  {
   "cell_type": "code",
   "execution_count": null,
   "id": "518e147c-d14b-42e9-80bc-8023c9e4ed6a",
   "metadata": {},
   "outputs": [],
   "source": [
    "from torch.utils.data import DataLoader\n",
    "\n",
    "train_dataloader = DataLoader(\n",
    "    tokenized_dataset_train, shuffle=True, batch_size=18, collate_fn=data_collator\n",
    ")\n",
    "eval_dataloader = DataLoader(\n",
    "    tokenized_dataset_val, batch_size=18, collate_fn=data_collator\n",
    ")"
   ]
  },
  {
   "cell_type": "code",
   "execution_count": null,
   "id": "3e84a2c3-a872-438e-81cd-668bd82a4dae",
   "metadata": {},
   "outputs": [],
   "source": [
    "for batch in train_dataloader:\n",
    "    break\n",
    "{k: v.shape for k, v in batch.items()}"
   ]
  },
  {
   "cell_type": "code",
   "execution_count": null,
   "id": "6314d94a-7632-4f74-9901-adfd72db9ff1",
   "metadata": {},
   "outputs": [],
   "source": [
    "outputs = model(**batch)\n",
    "print(outputs.loss, outputs.logits.shape)"
   ]
  },
  {
   "cell_type": "code",
   "execution_count": null,
   "id": "d2eeee2d-7c39-445d-b620-752eef84d8ff",
   "metadata": {},
   "outputs": [],
   "source": [
    "from transformers import AdamW\n",
    "\n",
    "optimizer = AdamW(model.parameters(), lr=5e-5)"
   ]
  },
  {
   "cell_type": "code",
   "execution_count": null,
   "id": "f5c9123f-8b7d-496a-92c5-84c00a76c851",
   "metadata": {},
   "outputs": [],
   "source": [
    "from transformers import get_scheduler\n",
    "\n",
    "num_epochs = 3\n",
    "num_training_steps = num_epochs * len(train_dataloader)\n",
    "lr_scheduler = get_scheduler(\n",
    "    \"linear\",\n",
    "    optimizer=optimizer,\n",
    "    num_warmup_steps=0,\n",
    "    num_training_steps=num_training_steps,\n",
    ")\n",
    "print(num_training_steps)"
   ]
  },
  {
   "cell_type": "code",
   "execution_count": null,
   "id": "21748e7b-2392-4c93-8b09-b895cedfb5cd",
   "metadata": {},
   "outputs": [],
   "source": [
    "from tqdm.auto import tqdm\n",
    "from transformers import get_scheduler\n",
    "from accelerate import Accelerator\n",
    "accelerator = Accelerator()\n",
    "\n",
    "train_dataloader, eval_dataloader, model, optimizer = accelerator.prepare(\n",
    "    train_dataloader, eval_dataloader, model, optimizer\n",
    ")\n",
    "\n",
    "num_epochs = 3\n",
    "num_training_steps = num_epochs * len(train_dataloader)\n",
    "lr_scheduler = get_scheduler(\n",
    "    \"linear\",\n",
    "    optimizer=optimizer,\n",
    "    num_warmup_steps=0,\n",
    "    num_training_steps=num_training_steps\n",
    ")\n",
    "\n",
    "progress_bar = tqdm(range(num_training_steps))\n",
    "\n",
    "model.train()\n",
    "for epoch in range(num_epochs):\n",
    "    for batch in train_dataloader:\n",
    "        outputs = model(**batch)\n",
    "        loss = outputs.loss\n",
    "        class_weights = torch.tensor([1.0, 2.0], dtype=torch.float32).to(accelerator.device)\n",
    "        weighted_loss = loss * class_weights[batch[\"labels\"]]\n",
    "        loss = weighted_loss.mean()\n",
    "        accelerator.backward(loss)\n",
    "        optimizer.step()\n",
    "        lr_scheduler.step()\n",
    "        optimizer.zero_grad()\n",
    "        progress_bar.update(1)"
   ]
  },
  {
   "cell_type": "code",
   "execution_count": null,
   "id": "0ffbe0b7-df82-4e47-ba39-caa14e49f77c",
   "metadata": {},
   "outputs": [],
   "source": [
    "from huggingface_hub import notebook_login\n",
    "\n",
    "notebook_login()"
   ]
  },
  {
   "cell_type": "code",
   "execution_count": null,
   "id": "f8c63072-5c83-4fbe-b230-221b26ff54e1",
   "metadata": {},
   "outputs": [],
   "source": [
    "model.push_to_hub(\"MBERT_52\")"
   ]
  },
  {
   "cell_type": "code",
   "execution_count": null,
   "id": "5031444d-b2c9-4466-bb9c-d4010cdbe1fc",
   "metadata": {},
   "outputs": [],
   "source": [
    "tokenizer.push_to_hub(\"MBERT_52\")"
   ]
  },
  {
   "cell_type": "code",
   "execution_count": null,
   "id": "d5ca11c6-f9a3-4aa5-98f5-ac00c188b1fc",
   "metadata": {},
   "outputs": [],
   "source": []
  }
 ],
 "metadata": {
  "kernelspec": {
   "display_name": "vrabiasKernelJoppe",
   "language": "python",
   "name": "vrabiaskerneljoppe"
  },
  "language_info": {
   "codemirror_mode": {
    "name": "ipython",
    "version": 3
   },
   "file_extension": ".py",
   "mimetype": "text/x-python",
   "name": "python",
   "nbconvert_exporter": "python",
   "pygments_lexer": "ipython3",
   "version": "3.9.18"
  }
 },
 "nbformat": 4,
 "nbformat_minor": 5
}
