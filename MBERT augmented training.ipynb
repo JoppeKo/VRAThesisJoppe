{
 "cells": [
  {
   "cell_type": "code",
   "execution_count": null,
   "id": "5c93f1bd-816e-47a9-bdaf-a7e1f839471b",
   "metadata": {},
   "outputs": [],
   "source": [
    "import pandas as pd\n",
    "import re\n",
    "import torch\n",
    "from torch.utils.data import DataLoader, TensorDataset\n",
    "from transformers import AutoTokenizer, AutoModelForSequenceClassification, TrainingArguments, Trainer\n",
    "import accelerate\n",
    "import torch.nn as nn\n",
    "from torch.optim import Adam"
   ]
  },
  {
   "cell_type": "code",
   "execution_count": 1,
   "id": "3db8e729-fb04-4276-a1ac-dd1af0758e9d",
   "metadata": {},
   "outputs": [],
   "source": [
    "import pandas as pd\n",
    "import re"
   ]
  },
  {
   "cell_type": "code",
   "execution_count": null,
   "id": "d8f88d31-ffcc-43f5-bebf-82763462497f",
   "metadata": {},
   "outputs": [],
   "source": [
    "from tqdm.auto import tqdm"
   ]
  },
  {
   "cell_type": "code",
   "execution_count": 2,
   "id": "4bbfd341-cdb9-4976-a5c9-140390a03a81",
   "metadata": {},
   "outputs": [],
   "source": [
    "train_data = pd.read_csv('hpc_space/MBERT5/train_data_mid_5.csv')\n",
    "#val_data = pd.read_csv('hpc_space/MBERT1/val_data_mid_1.csv')"
   ]
  },
  {
   "cell_type": "code",
   "execution_count": 3,
   "id": "4ebd8055-0618-4f04-a117-eaea4aefbd69",
   "metadata": {},
   "outputs": [],
   "source": [
    "# train_data = train_data.sample(frac=1, random_state=99)"
   ]
  },
  {
   "cell_type": "code",
   "execution_count": 4,
   "id": "ad29d4d7-62ae-4b0a-a470-201c0f7eb396",
   "metadata": {},
   "outputs": [
    {
     "name": "stdout",
     "output_type": "stream",
     "text": [
      "                                                   text  outcome  Geslacht  \\\n",
      "0     Orienterend lab + UDS aangevraagd\\n\\n\\n\\nNoodb...        0         1   \n",
      "1     PO/ We zien een matig verzorgde, obese vrouw m...        0         0   \n",
      "2     \\n\\n\\n\\nTelefonisch uitleg gegeven over de ECT...        0         1   \n",
      "3     \\n\\n\\n\\nVinkers, dienstdoende psychiatrie.\\n\\n...        0         0   \n",
      "4     1. Psychische problemen \\nRvO: Angst met psych...        0         1   \n",
      "...                                                 ...      ...       ...   \n",
      "2795  1. Psychische problemen:\\nWeinig in beeld, af ...        0         1   \n",
      "2796  \\n\\n\\n\\n\\n\\n\\n\\nMDO beleid:\\n- opname vandaag\\...        0         1   \n",
      "2797  Dhr kwam rond 14.30 op de afdeling samen met <...        0         1   \n",
      "2798  <PERSOON-1>\\n\\nMevr kwam samen met haar man en...        1         0   \n",
      "2799  \\n\\n\\n\\nOpnamegesprek in dienst\\nAanwezig: pte...        1         0   \n",
      "\n",
      "     Combined  \n",
      "0         0_1  \n",
      "1         0_0  \n",
      "2         0_1  \n",
      "3         0_0  \n",
      "4         0_1  \n",
      "...       ...  \n",
      "2795      0_1  \n",
      "2796      0_1  \n",
      "2797      0_1  \n",
      "2798      1_0  \n",
      "2799      1_0  \n",
      "\n",
      "[2800 rows x 4 columns]\n"
     ]
    }
   ],
   "source": [
    "print(train_data)"
   ]
  },
  {
   "cell_type": "code",
   "execution_count": 5,
   "id": "e8afe905-4f6b-421b-8eef-dc3fb83aa29f",
   "metadata": {},
   "outputs": [],
   "source": [
    "def clean_txt(text):\n",
    "    text = re.sub(\"'\", \"\", text)\n",
    "    text = re.sub(\"(\\\\W)+\", \" \", text)\n",
    "    return text"
   ]
  },
  {
   "cell_type": "code",
   "execution_count": null,
   "id": "d6733dad-4ef7-416d-bb87-9603c325390f",
   "metadata": {},
   "outputs": [],
   "source": [
    "train_data['text'] = train_data.text.apply(clean_txt)\n",
    "#val_data['text'] = val_data.text.apply(clean_txt)"
   ]
  },
  {
   "cell_type": "code",
   "execution_count": null,
   "id": "dce3000d-0d26-44c0-847a-97ae29ebb1e0",
   "metadata": {},
   "outputs": [],
   "source": [
    "def replace_gendered_words(text, gender):\n",
    "    gendered_word_mapping = {\n",
    "        0: {\"zij\": \"hij\", \"Zij\": \"Hij\", \"ze\": \"hij\", \"Ze\": \"Hij\", \"haar\": \"hem\", \"Haar\": \"Hem\", \"mw\": \"dhr\", \"Mw\": \"Dhr\", \"vrouw\": \"man\", \"Vrouw\": \"Man\", \"patiente\": \"patient\", \"Patiente\": \"Patient\", \"mevrouw\": \"meneer\", \"Mevrouw\": \"Meneer\", \"mevr\": \"mr\", \"Mevr\": \"Mr\", \"meisje\": \"jongen\", \"Meisje\": \"Jongen\", \"dame\": \"heer\", \"Dame\": \"Heer\"},\n",
    "        1: {\"hij\": \"zij\", \"Hij\": \"Zij\", \"hem\": \"haar\", \"Hem\": \"Haar\", \"zijn\": \"haar\", \"Zijn\":\"Haar\", \"dhr\": \"mw\", \"Dhr\": \"Mw\", \"man\": \"vrouw\", \"Man\": \"Vrouw\", \"patient\": \"patiente\", \"Patient\": \"Patiente\", \"meneer\": \"mevrouw\", \"Meneer\": \"Mevrouw\", \"mr\": \"mevr\", \"Mr\": \"Mevr\", \"jongen\": \"meisje\", \"Jongen\": \"Meisje\", \"heer\": \"dame\", \"Heer\": \"Dame\", \"hr\":\"mw\", \"Hr\": \"Mw\"},\n",
    "    }\n",
    "\n",
    "    words = text.split()\n",
    "\n",
    "    for i in range(len(words)):\n",
    "        word = words[i]\n",
    "        if word in gendered_word_mapping[gender]:\n",
    "            words[i] = gendered_word_mapping[gender][word]\n",
    "\n",
    "    return ' '.join(words)\n",
    "\n",
    "if __name__ == \"__main__\":\n",
    "\n",
    "    # Replace gendered words in the 'text' column based on the 'Geslacht' column\n",
    "    train_data['text'] = train_data.apply(lambda row: replace_gendered_words(row['text'], row['Geslacht']), axis=1)\n",
    "\n",
    "    # Print the modified DataFrame\n",
    "    print(\"Modified DataFrame:\")\n",
    "    print(train_data)"
   ]
  },
  {
   "cell_type": "code",
   "execution_count": null,
   "id": "a805ec71-a107-46f0-b665-2c76ef860b17",
   "metadata": {},
   "outputs": [],
   "source": [
    "print(train_data)"
   ]
  },
  {
   "cell_type": "code",
   "execution_count": null,
   "id": "1087fb7e-e19c-494e-a236-390c86a5ace0",
   "metadata": {},
   "outputs": [],
   "source": [
    "# if __name__ == \"__main__\":\n",
    "\n",
    "#     # Replace gendered words in the 'text' column based on the 'Geslacht' column\n",
    "#     val_data['text'] = val_data.apply(lambda row: replace_gendered_words(row['text'], row['Geslacht']), axis=1)\n",
    "\n",
    "#     # Print the modified DataFrame\n",
    "#     print(\"Modified DataFrame:\")\n",
    "#     print(val_data)"
   ]
  },
  {
   "cell_type": "code",
   "execution_count": null,
   "id": "a53a2729-5fad-4e15-b921-6803894ff0a6",
   "metadata": {},
   "outputs": [],
   "source": [
    "train_data_orig = pd.read_csv('hpc_space/MBERT4/train_data_mid_4.csv')\n",
    "#val_data_orig = pd.read_csv('hpc_space/MBERT5/val_data_mid_5.csv')"
   ]
  },
  {
   "cell_type": "code",
   "execution_count": null,
   "id": "cc96ef30-79f7-4e1d-9cc6-f33e3fd2b7b9",
   "metadata": {},
   "outputs": [],
   "source": [
    "train_data_orig['text'] = train_data_orig.text.apply(clean_txt)\n",
    "# val_data_orig['text'] = val_data_orig.text.apply(clean_txt)"
   ]
  },
  {
   "cell_type": "code",
   "execution_count": null,
   "id": "c0c33d40-773f-4d4b-b610-ce5eb01ab5ef",
   "metadata": {},
   "outputs": [],
   "source": [
    "print(train_data)"
   ]
  },
  {
   "cell_type": "code",
   "execution_count": null,
   "id": "c01f2202-e663-45aa-bfd6-6ba1e4e3e621",
   "metadata": {},
   "outputs": [],
   "source": [
    "print(train_data_orig)"
   ]
  },
  {
   "cell_type": "code",
   "execution_count": null,
   "id": "11243d39-2234-400f-8336-eb9d2c9ad7f4",
   "metadata": {},
   "outputs": [],
   "source": [
    "train_data = pd.concat([train_data_orig, train_data])"
   ]
  },
  {
   "cell_type": "code",
   "execution_count": null,
   "id": "d1b25392-7390-4549-b617-d74db6443cd0",
   "metadata": {},
   "outputs": [],
   "source": [
    "train_data.to_csv('train_data_augmented_4.csv', index=False)"
   ]
  },
  {
   "cell_type": "code",
   "execution_count": null,
   "id": "ff0b58b9-fbb6-415e-89e2-adb97ff1b7f4",
   "metadata": {},
   "outputs": [],
   "source": [
    "val_data = pd.concat([val_data_orig, val_data])"
   ]
  },
  {
   "cell_type": "code",
   "execution_count": null,
   "id": "92e2e5dc-83c5-426b-926d-735fb70db44f",
   "metadata": {},
   "outputs": [],
   "source": [
    "print(train_data)"
   ]
  },
  {
   "cell_type": "code",
   "execution_count": null,
   "id": "c674dd26-834b-470f-9cbe-8c528de8f6f6",
   "metadata": {},
   "outputs": [],
   "source": [
    "def get_split(text1):\n",
    "    l_total = []\n",
    "    chunk_size = 500\n",
    "    overlap = 50\n",
    "\n",
    "    words = text1.split()\n",
    "\n",
    "    for start_idx in range(0, len(words), chunk_size - overlap):\n",
    "        end_idx = start_idx + chunk_size\n",
    "        l_parcial = words[start_idx:end_idx]\n",
    "        l_total.append(\" \".join(l_parcial))\n",
    "\n",
    "    return l_total"
   ]
  },
  {
   "cell_type": "code",
   "execution_count": null,
   "id": "1670ce8c-363e-495d-b1f0-94348f0d7561",
   "metadata": {},
   "outputs": [],
   "source": [
    "train_data['text_split'] = train_data['text'].apply(get_split)\n",
    "val_data['text_split'] = val_data['text'].apply(get_split)"
   ]
  },
  {
   "cell_type": "code",
   "execution_count": null,
   "id": "1e6b5492-910d-47f2-8027-bcd2d029f64a",
   "metadata": {},
   "outputs": [],
   "source": [
    "train_l = []\n",
    "label_l = []\n",
    "index_l = []\n",
    "\n",
    "for idx, row in train_data.iterrows():\n",
    "    for l in row['text_split']:\n",
    "        train_l.append(l)\n",
    "        label_l.append(row['outcome'])\n",
    "        index_l.append(idx)"
   ]
  },
  {
   "cell_type": "code",
   "execution_count": null,
   "id": "208abd61-119f-4174-a32c-b129f95eb854",
   "metadata": {},
   "outputs": [],
   "source": [
    "val_l = []\n",
    "val_label_l = []\n",
    "val_index_l = []\n",
    "\n",
    "for idx, row in val_data.iterrows():\n",
    "    for l in row['text_split']:\n",
    "        val_l.append(l)\n",
    "        val_label_l.append(row['outcome'])\n",
    "        val_index_l.append(idx)"
   ]
  },
  {
   "cell_type": "code",
   "execution_count": null,
   "id": "ba0f8d1c-e364-4339-8799-8ee135d6384e",
   "metadata": {},
   "outputs": [],
   "source": [
    "train_df = pd.DataFrame({'text':train_l, 'label':label_l})\n",
    "train_df.head()"
   ]
  },
  {
   "cell_type": "code",
   "execution_count": null,
   "id": "96208aa5-ee36-4ab3-884b-1083aa4686d5",
   "metadata": {},
   "outputs": [],
   "source": [
    "val_df = pd.DataFrame({'text':val_l, 'label':val_label_l})\n",
    "val_df.head()"
   ]
  },
  {
   "cell_type": "code",
   "execution_count": null,
   "id": "a135e95b-8da5-4bb9-97e7-d8b4ad4c3e42",
   "metadata": {},
   "outputs": [],
   "source": [
    "train_texts = train_df['text'].tolist()\n",
    "train_labels = train_df['label'].tolist()"
   ]
  },
  {
   "cell_type": "code",
   "execution_count": null,
   "id": "d3e9774c-ed0a-4b6e-846e-f38b0480b424",
   "metadata": {},
   "outputs": [],
   "source": [
    "eval_texts = val_df['text'].tolist()\n",
    "eval_labels = val_df['label'].tolist()"
   ]
  },
  {
   "cell_type": "code",
   "execution_count": null,
   "id": "cca1cb05-7483-4e2d-969f-1d33fd30abaa",
   "metadata": {},
   "outputs": [],
   "source": [
    "import torchvision\n",
    "import torchaudio"
   ]
  },
  {
   "cell_type": "code",
   "execution_count": null,
   "id": "b5b99307-4714-487f-b03a-44cc8cef7fa4",
   "metadata": {},
   "outputs": [],
   "source": [
    "from huggingface_hub import notebook_login\n",
    "\n",
    "notebook_login()"
   ]
  },
  {
   "cell_type": "code",
   "execution_count": null,
   "id": "f4d61ba1-8e9b-45d6-8320-f84755acb888",
   "metadata": {},
   "outputs": [],
   "source": [
    "tokenizer = AutoTokenizer.from_pretrained(\"JoppeK/MBERT_copy\")\n",
    "model = AutoModelForSequenceClassification.from_pretrained(\"JoppeK/MBERT_copy\", num_labels=2)"
   ]
  },
  {
   "cell_type": "code",
   "execution_count": null,
   "id": "b3446b69-6710-4809-a29d-ed1e85de42b0",
   "metadata": {},
   "outputs": [],
   "source": [
    "def tokenize_function(example):\n",
    "    return tokenizer(\n",
    "        example[\"text\"],\n",
    "        padding=\"max_length\",\n",
    "        truncation=True,\n",
    "        max_length=512\n",
    "    )"
   ]
  },
  {
   "cell_type": "code",
   "execution_count": null,
   "id": "4e688458-5e4e-4891-9362-8bf6f5c92f68",
   "metadata": {},
   "outputs": [],
   "source": [
    "from datasets import Dataset"
   ]
  },
  {
   "cell_type": "code",
   "execution_count": null,
   "id": "e8d521b5-34d8-4b17-a5c3-da0299b99bd9",
   "metadata": {},
   "outputs": [],
   "source": [
    "raw_dataset_train = Dataset.from_pandas(train_df.reset_index(drop=True))\n",
    "print(raw_dataset_train)"
   ]
  },
  {
   "cell_type": "code",
   "execution_count": null,
   "id": "4718e89c-de55-4592-8be3-ab5460843f17",
   "metadata": {},
   "outputs": [],
   "source": [
    "raw_dataset_val = Dataset.from_pandas(val_df.reset_index(drop=True))\n",
    "print(raw_dataset_val)"
   ]
  },
  {
   "cell_type": "code",
   "execution_count": null,
   "id": "6ac8d3e6-2933-4dee-88ca-363fc3f4fcb4",
   "metadata": {},
   "outputs": [],
   "source": [
    "tokenized_dataset_train = raw_dataset_train.map(tokenize_function, batched=True)\n",
    "tokenized_dataset_train"
   ]
  },
  {
   "cell_type": "code",
   "execution_count": null,
   "id": "36ef65f2-23c9-48d4-850f-95216b314af1",
   "metadata": {},
   "outputs": [],
   "source": [
    "tokenized_dataset_val = raw_dataset_val.map(tokenize_function, batched=True)"
   ]
  },
  {
   "cell_type": "code",
   "execution_count": null,
   "id": "6770f5a9-a600-4277-b513-1f91b8a4fbf0",
   "metadata": {},
   "outputs": [],
   "source": [
    "from transformers import DataCollatorWithPadding\n",
    "\n",
    "data_collator = DataCollatorWithPadding(tokenizer=tokenizer)"
   ]
  },
  {
   "cell_type": "code",
   "execution_count": null,
   "id": "0c65b316-61df-4983-bdaa-6ad7d13a4b70",
   "metadata": {},
   "outputs": [],
   "source": [
    "tokenized_dataset_train = tokenized_dataset_train.remove_columns([\"text\"])\n",
    "tokenized_dataset_train = tokenized_dataset_train.rename_column(\"label\", \"labels\")\n",
    "tokenized_dataset_train.set_format(\"torch\")\n",
    "tokenized_dataset_train.column_names"
   ]
  },
  {
   "cell_type": "code",
   "execution_count": null,
   "id": "3fcdadda-617b-4c93-9906-bbe31d6a4062",
   "metadata": {},
   "outputs": [],
   "source": [
    "tokenized_dataset_val = tokenized_dataset_val.remove_columns([\"text\"])\n",
    "tokenized_dataset_val = tokenized_dataset_val.rename_column(\"label\", \"labels\")\n",
    "tokenized_dataset_val.set_format(\"torch\")\n",
    "tokenized_dataset_val.column_names"
   ]
  },
  {
   "cell_type": "code",
   "execution_count": null,
   "id": "518e147c-d14b-42e9-80bc-8023c9e4ed6a",
   "metadata": {},
   "outputs": [],
   "source": [
    "from torch.utils.data import DataLoader\n",
    "\n",
    "train_dataloader = DataLoader(\n",
    "    tokenized_dataset_train, shuffle=True, batch_size=16, collate_fn=data_collator\n",
    ")\n",
    "eval_dataloader = DataLoader(\n",
    "    tokenized_dataset_val, batch_size=16, collate_fn=data_collator\n",
    ")"
   ]
  },
  {
   "cell_type": "code",
   "execution_count": null,
   "id": "3e84a2c3-a872-438e-81cd-668bd82a4dae",
   "metadata": {},
   "outputs": [],
   "source": [
    "for batch in train_dataloader:\n",
    "    break\n",
    "{k: v.shape for k, v in batch.items()}"
   ]
  },
  {
   "cell_type": "code",
   "execution_count": null,
   "id": "6314d94a-7632-4f74-9901-adfd72db9ff1",
   "metadata": {},
   "outputs": [],
   "source": [
    "outputs = model(**batch)\n",
    "print(outputs.loss, outputs.logits.shape)"
   ]
  },
  {
   "cell_type": "code",
   "execution_count": null,
   "id": "d2eeee2d-7c39-445d-b620-752eef84d8ff",
   "metadata": {},
   "outputs": [],
   "source": [
    "from transformers import AdamW\n",
    "\n",
    "optimizer = AdamW(model.parameters(), lr=5e-6)"
   ]
  },
  {
   "cell_type": "code",
   "execution_count": null,
   "id": "f5c9123f-8b7d-496a-92c5-84c00a76c851",
   "metadata": {},
   "outputs": [],
   "source": [
    "from transformers import get_scheduler\n",
    "\n",
    "num_epochs = 3\n",
    "num_training_steps = num_epochs * len(train_dataloader)\n",
    "lr_scheduler = get_scheduler(\n",
    "    \"linear\",\n",
    "    optimizer=optimizer,\n",
    "    num_warmup_steps=0,\n",
    "    num_training_steps=num_training_steps,\n",
    ")\n",
    "print(num_training_steps)"
   ]
  },
  {
   "cell_type": "code",
   "execution_count": null,
   "id": "21748e7b-2392-4c93-8b09-b895cedfb5cd",
   "metadata": {},
   "outputs": [],
   "source": [
    "from tqdm.auto import tqdm\n",
    "from transformers import get_scheduler\n",
    "from accelerate import Accelerator\n",
    "accelerator = Accelerator()\n",
    "\n",
    "train_dataloader, eval_dataloader, model, optimizer = accelerator.prepare(\n",
    "    train_dataloader, eval_dataloader, model, optimizer\n",
    ")\n",
    "\n",
    "num_epochs = 3\n",
    "num_training_steps = num_epochs * len(train_dataloader)\n",
    "lr_scheduler = get_scheduler(\n",
    "    \"linear\",\n",
    "    optimizer=optimizer,\n",
    "    num_warmup_steps=0,\n",
    "    num_training_steps=num_training_steps\n",
    ")\n",
    "\n",
    "progress_bar = tqdm(range(num_training_steps))\n",
    "\n",
    "model.train()\n",
    "for epoch in range(num_epochs):\n",
    "    for batch in train_dataloader:\n",
    "        outputs = model(**batch)\n",
    "        loss = outputs.loss\n",
    "        class_weights = torch.tensor([1.0, 2.0], dtype=torch.float32).to(accelerator.device)\n",
    "        weighted_loss = loss * class_weights[batch[\"labels\"]]\n",
    "        loss = weighted_loss.mean()\n",
    "        accelerator.backward(loss)\n",
    "        optimizer.step()\n",
    "        lr_scheduler.step()\n",
    "        optimizer.zero_grad()\n",
    "        progress_bar.update(1)"
   ]
  },
  {
   "cell_type": "code",
   "execution_count": null,
   "id": "0ffbe0b7-df82-4e47-ba39-caa14e49f77c",
   "metadata": {},
   "outputs": [],
   "source": [
    "from huggingface_hub import notebook_login\n",
    "\n",
    "notebook_login()"
   ]
  },
  {
   "cell_type": "code",
   "execution_count": null,
   "id": "d5ca11c6-f9a3-4aa5-98f5-ac00c188b1fc",
   "metadata": {},
   "outputs": [],
   "source": [
    "model.push_to_hub(\"MBERT_augmented_5\")"
   ]
  },
  {
   "cell_type": "code",
   "execution_count": null,
   "id": "2e671069-9e59-45ca-8c4f-f50ebbd834f8",
   "metadata": {},
   "outputs": [],
   "source": [
    "tokenizer.push_to_hub(\"MBERT_augmented_5\")"
   ]
  },
  {
   "cell_type": "code",
   "execution_count": null,
   "id": "6fb505f5-3828-4fac-9b9f-2997b89694c8",
   "metadata": {},
   "outputs": [],
   "source": []
  }
 ],
 "metadata": {
  "kernelspec": {
   "display_name": "vrabiasKernelJoppe",
   "language": "python",
   "name": "vrabiaskerneljoppe"
  },
  "language_info": {
   "codemirror_mode": {
    "name": "ipython",
    "version": 3
   },
   "file_extension": ".py",
   "mimetype": "text/x-python",
   "name": "python",
   "nbconvert_exporter": "python",
   "pygments_lexer": "ipython3",
   "version": "3.9.18"
  }
 },
 "nbformat": 4,
 "nbformat_minor": 5
}
