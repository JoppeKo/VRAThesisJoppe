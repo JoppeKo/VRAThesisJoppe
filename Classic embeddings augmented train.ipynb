{
 "cells": [
  {
   "cell_type": "code",
   "execution_count": 1,
   "id": "ba059f6a-e4db-404c-83b4-3d4c863ed808",
   "metadata": {},
   "outputs": [],
   "source": [
    "# SVM TRAINING"
   ]
  },
  {
   "cell_type": "code",
   "execution_count": 1,
   "id": "23cd7b6d-2ebf-4d2e-8850-5d8d92a82b6b",
   "metadata": {},
   "outputs": [],
   "source": [
    "import pandas as pd\n",
    "import os\n",
    "import numpy as np\n",
    "\n",
    "import nltk.data\n",
    "from nltk.tokenize import word_tokenize\n",
    "import sklearn\n",
    "import unidecode\n",
    "import re\n",
    "from gensim.models.doc2vec import TaggedDocument\n",
    "from itertools import islice\n",
    "from gensim.models.doc2vec import Doc2Vec\n",
    "from sklearn.feature_extraction.text import CountVectorizer\n",
    "from sklearn.feature_selection import SelectKBest, chi2\n",
    "import os\n",
    "from scipy import stats\n",
    "\n",
    "\n",
    "import gensim\n",
    "from gensim.models import Doc2Vec\n",
    "\n",
    "import joblib\n",
    "from sklearn.metrics import roc_auc_score, roc_curve\n",
    "\n",
    "import scipy.stats\n",
    "\n",
    "from sklearn import svm\n",
    "import joblib\n",
    "from sklearn.model_selection import GridSearchCV, GroupKFold\n",
    "\n",
    "from nltk.corpus.reader import conll"
   ]
  },
  {
   "cell_type": "code",
   "execution_count": 2,
   "id": "4e601b57-37b4-4afe-b235-7d29871e6482",
   "metadata": {},
   "outputs": [],
   "source": [
    "# Define tokenization procedure\n",
    "sent_tokenizer = nltk.data.load(\"nltk_data/tokenizers/punkt/dutch.pickle\")\n",
    "\n",
    "def tokenize(text):\n",
    "    for sentence in sent_tokenizer.tokenize(text):\n",
    "        yield word_tokenize(sentence)\n",
    "\n",
    "# Read stopwords\n",
    "with open('nltk_data/corpora/stopwords/dutch') as f:\n",
    "    dutch_stopwords = set(f.read().splitlines())\n",
    "\n",
    "# Initialize stemmer (using package nltk)\n",
    "stemmer = nltk.stem.snowball.DutchStemmer()"
   ]
  },
  {
   "cell_type": "code",
   "execution_count": 3,
   "id": "c9a90ae1-ee70-43b0-8238-a2757b1b64d9",
   "metadata": {},
   "outputs": [],
   "source": [
    "#################################FUNCTIONS ####################################################################\n",
    "# Preprocessing for text\n",
    "def text_to_words(text, filter_stopwords=True, stemming=False, filter_periods=False):\n",
    "\n",
    "    # Lowercase and remove special characters (ë => e, etc)\n",
    "    text = text.lower()\n",
    "    text = unidecode.unidecode(text)\n",
    "\n",
    "    # Remove all non space, period, lowercase\n",
    "    text = re.sub(r'([^\\sa-z\\.]|_)+', ' ', text)\n",
    "\n",
    "    # Remove obsolete periods\n",
    "    text = re.sub(r'\\s\\.\\s', ' ', text)\n",
    "    text = re.sub(r' +', ' ', text)\n",
    "    text = re.sub('\\t', ' ', text)\n",
    "    text = re.sub(r' +', ' ', text)\n",
    "\n",
    "    # Tokenize\n",
    "    words = [word for sentence in tokenize(text) for word in sentence]\n",
    "\n",
    "    # Filter stopwords\n",
    "    if filter_stopwords:\n",
    "        words = [word for word in words if word not in dutch_stopwords]\n",
    "\n",
    "    # Stemming\n",
    "    if stemming:\n",
    "        words = [stemmer.stem(w) for w in words]\n",
    "\n",
    "    # Filter periods\n",
    "    if filter_periods:\n",
    "        words = [word for word in words if word != \".\"]\n",
    "\n",
    "    # Return\n",
    "    return words\n",
    "\n",
    "######################################INFERENCE ##############################################\n",
    "# Convert a dataframe with texts in the 'text_column' column to a numpy array with vector representations,\n",
    "# based on a paragraph2vec_model and a specified number of repetitions.\n",
    "def text_to_vectors(notes_df, text_column, paragraph2vec_model, no_reps=10):\n",
    "\n",
    "    # Output is a matrix with rows equal to number of notes, and columns equal to paragraph2vec model size\n",
    "    note_vectors = np.zeros((len(notes_df), paragraph2vec_model.vector_size))\n",
    "\n",
    "    # Iterate over all notes\n",
    "    for i in notes_df.index:\n",
    "\n",
    "        # Words are in the 'text_preprocessed' column split by whitespaces\n",
    "        note_words = notes_df.loc[i, text_column].split(\" \")\n",
    "\n",
    "        # Initialize an empty vector of length paragraph2vec model size\n",
    "        note_vec = np.zeros((paragraph2vec_model.vector_size))\n",
    "\n",
    "        # Iterate over number of repetitions to cancel out inaccuracies\n",
    "        for _ in range(no_reps):\n",
    "            note_vec += paragraph2vec_model.infer_vector(note_words)\n",
    "\n",
    "        # Add to note_vectors after normalizing for number of repetitions\n",
    "        note_vectors[i] = (note_vec / no_reps)\n",
    "\n",
    "    # Return output\n",
    "    return note_vectors"
   ]
  },
  {
   "cell_type": "code",
   "execution_count": 4,
   "id": "8ae09fa3-6ef7-48df-bc1e-561a426ee8c3",
   "metadata": {},
   "outputs": [
    {
     "ename": "TypeError",
     "evalue": "__randomstate_ctor() takes from 0 to 1 positional arguments but 2 were given",
     "output_type": "error",
     "traceback": [
      "\u001b[0;31m---------------------------------------------------------------------------\u001b[0m",
      "\u001b[0;31mTypeError\u001b[0m                                 Traceback (most recent call last)",
      "Cell \u001b[0;32mIn[4], line 1\u001b[0m\n\u001b[0;32m----> 1\u001b[0m paragraph2vec_model \u001b[38;5;241m=\u001b[39m \u001b[43mDoc2Vec\u001b[49m\u001b[38;5;241;43m.\u001b[39;49m\u001b[43mload\u001b[49m\u001b[43m(\u001b[49m\u001b[38;5;124;43m\"\u001b[39;49m\u001b[38;5;124;43mmodels/paragraph2vec_model_all\u001b[39;49m\u001b[38;5;124;43m\"\u001b[39;49m\u001b[43m)\u001b[49m\n",
      "File \u001b[0;32m~/.local/lib/python3.9/site-packages/gensim/models/doc2vec.py:809\u001b[0m, in \u001b[0;36mDoc2Vec.load\u001b[0;34m(cls, *args, **kwargs)\u001b[0m\n\u001b[1;32m    786\u001b[0m \u001b[38;5;250m\u001b[39m\u001b[38;5;124;03m\"\"\"Load a previously saved :class:`~gensim.models.doc2vec.Doc2Vec` model.\u001b[39;00m\n\u001b[1;32m    787\u001b[0m \n\u001b[1;32m    788\u001b[0m \u001b[38;5;124;03mParameters\u001b[39;00m\n\u001b[0;32m   (...)\u001b[0m\n\u001b[1;32m    806\u001b[0m \n\u001b[1;32m    807\u001b[0m \u001b[38;5;124;03m\"\"\"\u001b[39;00m\n\u001b[1;32m    808\u001b[0m \u001b[38;5;28;01mtry\u001b[39;00m:\n\u001b[0;32m--> 809\u001b[0m     \u001b[38;5;28;01mreturn\u001b[39;00m \u001b[38;5;28;43msuper\u001b[39;49m\u001b[43m(\u001b[49m\u001b[43mDoc2Vec\u001b[49m\u001b[43m,\u001b[49m\u001b[43m \u001b[49m\u001b[38;5;28;43mcls\u001b[39;49m\u001b[43m)\u001b[49m\u001b[38;5;241;43m.\u001b[39;49m\u001b[43mload\u001b[49m\u001b[43m(\u001b[49m\u001b[38;5;241;43m*\u001b[39;49m\u001b[43margs\u001b[49m\u001b[43m,\u001b[49m\u001b[43m \u001b[49m\u001b[43mrethrow\u001b[49m\u001b[38;5;241;43m=\u001b[39;49m\u001b[38;5;28;43;01mTrue\u001b[39;49;00m\u001b[43m,\u001b[49m\u001b[43m \u001b[49m\u001b[38;5;241;43m*\u001b[39;49m\u001b[38;5;241;43m*\u001b[39;49m\u001b[43mkwargs\u001b[49m\u001b[43m)\u001b[49m\n\u001b[1;32m    810\u001b[0m \u001b[38;5;28;01mexcept\u001b[39;00m \u001b[38;5;167;01mAttributeError\u001b[39;00m \u001b[38;5;28;01mas\u001b[39;00m ae:\n\u001b[1;32m    811\u001b[0m     logger\u001b[38;5;241m.\u001b[39merror(\n\u001b[1;32m    812\u001b[0m         \u001b[38;5;124m\"\u001b[39m\u001b[38;5;124mModel load error. Was model saved using code from an older Gensim version? \u001b[39m\u001b[38;5;124m\"\u001b[39m\n\u001b[1;32m    813\u001b[0m         \u001b[38;5;124m\"\u001b[39m\u001b[38;5;124mTry loading older model using gensim-3.8.3, then re-saving, to restore \u001b[39m\u001b[38;5;124m\"\u001b[39m\n\u001b[1;32m    814\u001b[0m         \u001b[38;5;124m\"\u001b[39m\u001b[38;5;124mcompatibility with current code.\u001b[39m\u001b[38;5;124m\"\u001b[39m)\n",
      "File \u001b[0;32m~/.local/lib/python3.9/site-packages/gensim/models/word2vec.py:1953\u001b[0m, in \u001b[0;36mWord2Vec.load\u001b[0;34m(cls, rethrow, *args, **kwargs)\u001b[0m\n\u001b[1;32m   1934\u001b[0m \u001b[38;5;250m\u001b[39m\u001b[38;5;124;03m\"\"\"Load a previously saved :class:`~gensim.models.word2vec.Word2Vec` model.\u001b[39;00m\n\u001b[1;32m   1935\u001b[0m \n\u001b[1;32m   1936\u001b[0m \u001b[38;5;124;03mSee Also\u001b[39;00m\n\u001b[0;32m   (...)\u001b[0m\n\u001b[1;32m   1950\u001b[0m \n\u001b[1;32m   1951\u001b[0m \u001b[38;5;124;03m\"\"\"\u001b[39;00m\n\u001b[1;32m   1952\u001b[0m \u001b[38;5;28;01mtry\u001b[39;00m:\n\u001b[0;32m-> 1953\u001b[0m     model \u001b[38;5;241m=\u001b[39m \u001b[38;5;28;43msuper\u001b[39;49m\u001b[43m(\u001b[49m\u001b[43mWord2Vec\u001b[49m\u001b[43m,\u001b[49m\u001b[43m \u001b[49m\u001b[38;5;28;43mcls\u001b[39;49m\u001b[43m)\u001b[49m\u001b[38;5;241;43m.\u001b[39;49m\u001b[43mload\u001b[49m\u001b[43m(\u001b[49m\u001b[38;5;241;43m*\u001b[39;49m\u001b[43margs\u001b[49m\u001b[43m,\u001b[49m\u001b[43m \u001b[49m\u001b[38;5;241;43m*\u001b[39;49m\u001b[38;5;241;43m*\u001b[39;49m\u001b[43mkwargs\u001b[49m\u001b[43m)\u001b[49m\n\u001b[1;32m   1954\u001b[0m     \u001b[38;5;28;01mif\u001b[39;00m \u001b[38;5;129;01mnot\u001b[39;00m \u001b[38;5;28misinstance\u001b[39m(model, Word2Vec):\n\u001b[1;32m   1955\u001b[0m         rethrow \u001b[38;5;241m=\u001b[39m \u001b[38;5;28;01mTrue\u001b[39;00m\n",
      "File \u001b[0;32m~/.local/lib/python3.9/site-packages/gensim/utils.py:486\u001b[0m, in \u001b[0;36mSaveLoad.load\u001b[0;34m(cls, fname, mmap)\u001b[0m\n\u001b[1;32m    482\u001b[0m logger\u001b[38;5;241m.\u001b[39minfo(\u001b[38;5;124m\"\u001b[39m\u001b[38;5;124mloading \u001b[39m\u001b[38;5;132;01m%s\u001b[39;00m\u001b[38;5;124m object from \u001b[39m\u001b[38;5;132;01m%s\u001b[39;00m\u001b[38;5;124m\"\u001b[39m, \u001b[38;5;28mcls\u001b[39m\u001b[38;5;241m.\u001b[39m\u001b[38;5;18m__name__\u001b[39m, fname)\n\u001b[1;32m    484\u001b[0m compress, subname \u001b[38;5;241m=\u001b[39m SaveLoad\u001b[38;5;241m.\u001b[39m_adapt_by_suffix(fname)\n\u001b[0;32m--> 486\u001b[0m obj \u001b[38;5;241m=\u001b[39m \u001b[43munpickle\u001b[49m\u001b[43m(\u001b[49m\u001b[43mfname\u001b[49m\u001b[43m)\u001b[49m\n\u001b[1;32m    487\u001b[0m obj\u001b[38;5;241m.\u001b[39m_load_specials(fname, mmap, compress, subname)\n\u001b[1;32m    488\u001b[0m obj\u001b[38;5;241m.\u001b[39madd_lifecycle_event(\u001b[38;5;124m\"\u001b[39m\u001b[38;5;124mloaded\u001b[39m\u001b[38;5;124m\"\u001b[39m, fname\u001b[38;5;241m=\u001b[39mfname)\n",
      "File \u001b[0;32m~/.local/lib/python3.9/site-packages/gensim/utils.py:1461\u001b[0m, in \u001b[0;36munpickle\u001b[0;34m(fname)\u001b[0m\n\u001b[1;32m   1447\u001b[0m \u001b[38;5;250m\u001b[39m\u001b[38;5;124;03m\"\"\"Load object from `fname`, using smart_open so that `fname` can be on S3, HDFS, compressed etc.\u001b[39;00m\n\u001b[1;32m   1448\u001b[0m \n\u001b[1;32m   1449\u001b[0m \u001b[38;5;124;03mParameters\u001b[39;00m\n\u001b[0;32m   (...)\u001b[0m\n\u001b[1;32m   1458\u001b[0m \n\u001b[1;32m   1459\u001b[0m \u001b[38;5;124;03m\"\"\"\u001b[39;00m\n\u001b[1;32m   1460\u001b[0m \u001b[38;5;28;01mwith\u001b[39;00m \u001b[38;5;28mopen\u001b[39m(fname, \u001b[38;5;124m'\u001b[39m\u001b[38;5;124mrb\u001b[39m\u001b[38;5;124m'\u001b[39m) \u001b[38;5;28;01mas\u001b[39;00m f:\n\u001b[0;32m-> 1461\u001b[0m     \u001b[38;5;28;01mreturn\u001b[39;00m \u001b[43m_pickle\u001b[49m\u001b[38;5;241;43m.\u001b[39;49m\u001b[43mload\u001b[49m\u001b[43m(\u001b[49m\u001b[43mf\u001b[49m\u001b[43m,\u001b[49m\u001b[43m \u001b[49m\u001b[43mencoding\u001b[49m\u001b[38;5;241;43m=\u001b[39;49m\u001b[38;5;124;43m'\u001b[39;49m\u001b[38;5;124;43mlatin1\u001b[39;49m\u001b[38;5;124;43m'\u001b[39;49m\u001b[43m)\u001b[49m\n",
      "\u001b[0;31mTypeError\u001b[0m: __randomstate_ctor() takes from 0 to 1 positional arguments but 2 were given"
     ]
    }
   ],
   "source": [
    "paragraph2vec_model = Doc2Vec.load(\"models/paragraph2vec_model_all\")"
   ]
  },
  {
   "cell_type": "code",
   "execution_count": null,
   "id": "2c593952-733b-4525-a4cf-ae434fa94bca",
   "metadata": {},
   "outputs": [],
   "source": [
    "engineered_notes_train = pd.read_csv('hpc_space/MBERT5/train_data_augmented_5.csv')\n",
    "\n",
    "# Convert text to words\n",
    "engineered_notes_train['words_stemmed'] = engineered_notes_train['text'].apply(lambda x : text_to_words(x,\n",
    "                                                                                    filter_stopwords=True,\n",
    "                                                                                    stemming=True,\n",
    "                                                                                    filter_periods=True\n",
    "                                                                                    ))\n",
    "\n",
    "# Join with whitespace\n",
    "engineered_notes_train['words_stemmed'] = engineered_notes_train['words_stemmed'].apply(lambda x : ' '.join(x))\n",
    "\n",
    "# Convert text to notes\n",
    "note_vectors = text_to_vectors(engineered_notes_train, 'words_stemmed', paragraph2vec_model, 10)\n",
    "\n",
    "# Concatenate to original dataframe\n",
    "engineered_notes_train = pd.concat([engineered_notes_train, pd.DataFrame(note_vectors)], axis=1)"
   ]
  },
  {
   "cell_type": "code",
   "execution_count": 7,
   "id": "b7a8cf7b-56ea-4964-b2dc-3377154e756a",
   "metadata": {},
   "outputs": [],
   "source": [
    "engineered_notes_train.to_csv(\"engineered_notes_train_augmented_5.csv\")"
   ]
  },
  {
   "cell_type": "code",
   "execution_count": 8,
   "id": "67f613ff-dfe5-4f9a-929a-6accd163d2f3",
   "metadata": {},
   "outputs": [],
   "source": [
    "engineered_notes_train = pd.read_csv(\"engineered_notes_train_augmented_5.csv\")\n",
    "engineered_notes_test = pd.read_csv(\"engineered_notes_test_all_trained_5.csv\")"
   ]
  },
  {
   "cell_type": "code",
   "execution_count": 9,
   "id": "ffa2ab37-c2a2-41c2-ae62-8d8604938907",
   "metadata": {},
   "outputs": [],
   "source": [
    "# Subset data from engineered_notes_train for training\n",
    "X_train = engineered_notes_train[[str(a) for a in range(300)]].values\n",
    "y_train = engineered_notes_train[['outcome', 'Geslacht']]\n",
    "\n",
    "# Subset data from engineered_notes_test for testing\n",
    "X_test = engineered_notes_test[[str(a) for a in range(300)]].values\n",
    "y_test = engineered_notes_test[['outcome', 'Geslacht']]"
   ]
  },
  {
   "cell_type": "code",
   "execution_count": 10,
   "id": "3192adc1-634e-49bb-aa9c-c1ad2c4619cb",
   "metadata": {},
   "outputs": [
    {
     "name": "stdout",
     "output_type": "stream",
     "text": [
      "Fitting 3 folds for each of 3 candidates, totalling 9 fits\n"
     ]
    }
   ],
   "source": [
    "from sklearn.pipeline import make_pipeline, Pipeline\n",
    "from sklearn.model_selection import GridSearchCV\n",
    "from sklearn.preprocessing import StandardScaler\n",
    "from sklearn.svm import SVC\n",
    "\n",
    "svm_params = [{\n",
    "    'clf__C': [0.1, 1, 10],\n",
    "    'clf__kernel': ['rbf'],\n",
    "\n",
    "}]\n",
    "\n",
    "pipeline = Pipeline(steps=[(\"preprocesser\", StandardScaler()), (\"clf\", SVC(random_state=0, probability=True))])\n",
    "grid = GridSearchCV(pipeline, svm_params, scoring='f1_macro', verbose=1, cv=3)\n",
    "\n",
    "grid.fit(X_train, y_train['outcome'])\n",
    "\n",
    "svm_model = grid.best_estimator_"
   ]
  },
  {
   "cell_type": "code",
   "execution_count": 11,
   "id": "6833ce3a-7620-4839-b498-8b7ec54f9589",
   "metadata": {},
   "outputs": [
    {
     "data": {
      "text/plain": [
       "['augmentedtrain_5.joblib']"
      ]
     },
     "execution_count": 11,
     "metadata": {},
     "output_type": "execute_result"
    }
   ],
   "source": [
    "# Store predictions and true labels in a DataFrame for testing data\n",
    "predictions = pd.DataFrame({\n",
    "    'probability': svm_model.predict_proba(X_test)[:, 1],\n",
    "    'pred_label': svm_model.predict(X_test),\n",
    "    'true_label': y_test['outcome'],\n",
    "    'Geslacht': y_test['Geslacht'],\n",
    "    'fold_number': 1\n",
    "})\n",
    "\n",
    "predictions.to_csv(f\"predictions_augmentedtrain_5.csv\", sep=\";\", index=False)\n",
    "\n",
    "model_filename = f\"augmentedtrain_5.joblib\"\n",
    "joblib.dump(svm_model, model_filename)"
   ]
  },
  {
   "cell_type": "code",
   "execution_count": 12,
   "id": "13d50ee1-9b99-4581-87e5-b14e8d60caaa",
   "metadata": {},
   "outputs": [],
   "source": [
    "final_df = pd.read_csv(\"predictions_augmentedtrain_5.csv\", sep=\";\")"
   ]
  },
  {
   "cell_type": "code",
   "execution_count": 13,
   "id": "39d4a869-a363-4b9b-bde3-f111a7985798",
   "metadata": {},
   "outputs": [],
   "source": [
    "# EVALUATION"
   ]
  },
  {
   "cell_type": "code",
   "execution_count": 14,
   "id": "648c7ab0-d2a8-4292-9661-d1845bc06302",
   "metadata": {},
   "outputs": [],
   "source": [
    "final_df = final_df.rename(columns={\"pred_label\": \"final_prediction\"})\n",
    "final_df = final_df.rename(columns={\"true_label\": \"label\"})"
   ]
  },
  {
   "cell_type": "code",
   "execution_count": 15,
   "id": "5807387a-ccf7-40b0-983e-297285bfc0d9",
   "metadata": {},
   "outputs": [
    {
     "name": "stdout",
     "output_type": "stream",
     "text": [
      "Accuracy (Overall): 0.9446\n",
      "Precision (Positive): 0.8947\n",
      "Recall (Positive): 0.4789\n",
      "F1 Score (Positive): 0.6239\n",
      "Precision (Negative): 0.9473\n",
      "Recall (Negative): 0.9940\n",
      "F1 Score (Negative): 0.9701\n",
      "AUC: 0.7364\n",
      "AUC (Male): 0.7509\n",
      "AUC (Female): 0.6759\n"
     ]
    }
   ],
   "source": [
    "from sklearn.metrics import accuracy_score, precision_score, recall_score, f1_score, confusion_matrix, roc_auc_score\n",
    "\n",
    "# Calculate accuracy for the positive class (label = 1)\n",
    "accuracy_positive = accuracy_score(final_df['label'], final_df['final_prediction'])\n",
    "\n",
    "# Calculate precision for the positive class (label = 1)\n",
    "precision_positive = precision_score(final_df['label'], final_df['final_prediction'], pos_label=1)\n",
    "\n",
    "# Calculate recall for the positive class (label = 1)\n",
    "recall_positive = recall_score(final_df['label'], final_df['final_prediction'], pos_label=1)\n",
    "\n",
    "# Calculate F1 score for the positive class (label = 1)\n",
    "f1_positive = f1_score(final_df['label'], final_df['final_prediction'], pos_label=1)\n",
    "\n",
    "# Calculate precision for the negative class (label = 0)\n",
    "precision_negative = precision_score(final_df['label'], final_df['final_prediction'], pos_label=0)\n",
    "\n",
    "# Calculate recall for the negative class (label = 0)\n",
    "recall_negative = recall_score(final_df['label'], final_df['final_prediction'], pos_label=0)\n",
    "\n",
    "# Calculate F1 score for the negative class (label = 0)\n",
    "f1_negative = f1_score(final_df['label'], final_df['final_prediction'], pos_label=0)\n",
    "\n",
    "# Calculate the AUC\n",
    "auc = roc_auc_score(final_df['label'], final_df['final_prediction'])\n",
    "\n",
    "# Calculate the AUC for males (Geslacht = 1)\n",
    "auc_male = roc_auc_score(final_df[final_df['Geslacht'] == 1]['label'], final_df[final_df['Geslacht'] == 1]['final_prediction'])\n",
    "\n",
    "# Calculate the AUC for females (Geslacht = 0)\n",
    "auc_female = roc_auc_score(final_df[final_df['Geslacht'] == 0]['label'], final_df[final_df['Geslacht'] == 0]['final_prediction'])\n",
    "\n",
    "\n",
    "# Print the calculated metrics separately for both classes\n",
    "print(f\"Accuracy (Overall): {accuracy_positive:.4f}\")\n",
    "print(f\"Precision (Positive): {precision_positive:.4f}\")\n",
    "print(f\"Recall (Positive): {recall_positive:.4f}\")\n",
    "print(f\"F1 Score (Positive): {f1_positive:.4f}\")\n",
    "print(f\"Precision (Negative): {precision_negative:.4f}\")\n",
    "print(f\"Recall (Negative): {recall_negative:.4f}\")\n",
    "print(f\"F1 Score (Negative): {f1_negative:.4f}\")\n",
    "print(f\"AUC: {auc:.4f}\")\n",
    "print(f\"AUC (Male): {auc_male:.4f}\")\n",
    "print(f\"AUC (Female): {auc_female:.4f}\")"
   ]
  },
  {
   "cell_type": "code",
   "execution_count": 16,
   "id": "c3fe2d8a-af09-4360-809d-bbfabcc28757",
   "metadata": {},
   "outputs": [
    {
     "name": "stdout",
     "output_type": "stream",
     "text": [
      "TPR (Male): 0.5088\n",
      "TPR (Female): 0.3571\n",
      "FPR (Male): 0.0069\n",
      "FPR (Female): 0.0052\n"
     ]
    }
   ],
   "source": [
    "from sklearn.metrics import confusion_matrix\n",
    "\n",
    "# Calculate the confusion matrix for the entire dataset\n",
    "cm = confusion_matrix(final_df['label'], final_df['final_prediction'])\n",
    "\n",
    "# Calculate TPR and FPR for male (Geslacht = 1)\n",
    "male_indices = final_df['Geslacht'] == 1\n",
    "cm_male = confusion_matrix(final_df[male_indices]['label'], final_df[male_indices]['final_prediction'])\n",
    "\n",
    "tpr_male = cm_male[1, 1] / (cm_male[1, 0] + cm_male[1, 1])\n",
    "fpr_male = cm_male[0, 1] / (cm_male[0, 0] + cm_male[0, 1])\n",
    "\n",
    "# Calculate TPR and FPR for female (Geslacht = 0)\n",
    "female_indices = final_df['Geslacht'] == 0\n",
    "cm_female = confusion_matrix(final_df[female_indices]['label'], final_df[female_indices]['final_prediction'])\n",
    "\n",
    "tpr_female = cm_female[1, 1] / (cm_female[1, 0] + cm_female[1, 1])\n",
    "fpr_female = cm_female[0, 1] / (cm_female[0, 0] + cm_female[0, 1])\n",
    "\n",
    "# Print the calculated metrics separately for both classes\n",
    "print(f\"TPR (Male): {tpr_male:.4f}\")\n",
    "print(f\"TPR (Female): {tpr_female:.4f}\")\n",
    "print(f\"FPR (Male): {fpr_male:.4f}\")\n",
    "print(f\"FPR (Female): {fpr_female:.4f}\")"
   ]
  },
  {
   "cell_type": "code",
   "execution_count": 17,
   "id": "4a5319f3-c09e-41f2-bd36-d73d04909514",
   "metadata": {},
   "outputs": [
    {
     "name": "stdout",
     "output_type": "stream",
     "text": [
      "Combined Counts:\n",
      "combined\n",
      "0_0_0    379\n",
      "1_0_0    286\n",
      "1_1_1     29\n",
      "1_1_0     28\n",
      "0_1_0      9\n",
      "0_1_1      5\n",
      "1_0_1      2\n",
      "0_0_1      2\n",
      "Name: count, dtype: int64\n"
     ]
    }
   ],
   "source": [
    "final_df['combined'] = final_df['Geslacht'].astype(str) + '_' + final_df['label'].astype(str) + '_' + final_df['final_prediction'].astype(str)\n",
    "\n",
    "# Get the count of combinations\n",
    "combination_counts = final_df['combined'].value_counts()\n",
    "\n",
    "# Print the counts\n",
    "print(\"Combined Counts:\")\n",
    "print(combination_counts)"
   ]
  },
  {
   "cell_type": "code",
   "execution_count": null,
   "id": "ea940e1a-4d7a-4ef1-845b-b6eee9bc485b",
   "metadata": {},
   "outputs": [],
   "source": []
  }
 ],
 "metadata": {
  "kernelspec": {
   "display_name": "vrabiasKernelJoppe",
   "language": "python",
   "name": "vrabiaskerneljoppe"
  },
  "language_info": {
   "codemirror_mode": {
    "name": "ipython",
    "version": 3
   },
   "file_extension": ".py",
   "mimetype": "text/x-python",
   "name": "python",
   "nbconvert_exporter": "python",
   "pygments_lexer": "ipython3",
   "version": "3.9.18"
  }
 },
 "nbformat": 4,
 "nbformat_minor": 5
}
